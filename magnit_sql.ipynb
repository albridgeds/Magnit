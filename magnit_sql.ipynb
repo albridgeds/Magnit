{
 "cells": [
  {
   "cell_type": "code",
   "execution_count": 1,
   "id": "consistent-attachment",
   "metadata": {},
   "outputs": [],
   "source": [
    "import pymysql\n",
    "import pandas as pd\n",
    "from sqlalchemy import create_engine\n",
    "import datetime as dt"
   ]
  },
  {
   "cell_type": "code",
   "execution_count": 2,
   "id": "geographic-study",
   "metadata": {},
   "outputs": [
    {
     "name": "stdout",
     "output_type": "stream",
     "text": [
      "<class 'pandas.core.frame.DataFrame'>\n",
      "RangeIndex: 8 entries, 0 to 7\n",
      "Data columns (total 4 columns):\n",
      " #   Column                     Non-Null Count  Dtype \n",
      "---  ------                     --------------  ----- \n",
      " 0   ФИО                        8 non-null      object\n",
      " 1   Расписание                 8 non-null      object\n",
      " 2   Дата начала расписания     8 non-null      object\n",
      " 3   Дата окончания расписания  8 non-null      object\n",
      "dtypes: object(4)\n",
      "memory usage: 384.0+ bytes\n",
      "None\n"
     ]
    },
    {
     "data": {
      "text/html": [
       "<div>\n",
       "<style scoped>\n",
       "    .dataframe tbody tr th:only-of-type {\n",
       "        vertical-align: middle;\n",
       "    }\n",
       "\n",
       "    .dataframe tbody tr th {\n",
       "        vertical-align: top;\n",
       "    }\n",
       "\n",
       "    .dataframe thead th {\n",
       "        text-align: right;\n",
       "    }\n",
       "</style>\n",
       "<table border=\"1\" class=\"dataframe\">\n",
       "  <thead>\n",
       "    <tr style=\"text-align: right;\">\n",
       "      <th></th>\n",
       "      <th>ФИО</th>\n",
       "      <th>Расписание</th>\n",
       "      <th>Дата начала расписания</th>\n",
       "      <th>Дата окончания расписания</th>\n",
       "    </tr>\n",
       "  </thead>\n",
       "  <tbody>\n",
       "    <tr>\n",
       "      <th>0</th>\n",
       "      <td>Поставщик 1</td>\n",
       "      <td>дддвсвнн</td>\n",
       "      <td>01.01.2019 0:00</td>\n",
       "      <td>10.01.2019 0:00</td>\n",
       "    </tr>\n",
       "    <tr>\n",
       "      <th>1</th>\n",
       "      <td>Поставщик 1</td>\n",
       "      <td>ннвннв</td>\n",
       "      <td>11.01.2019 0:00</td>\n",
       "      <td>15.01.2019 0:00</td>\n",
       "    </tr>\n",
       "    <tr>\n",
       "      <th>2</th>\n",
       "      <td>Поставщик 1</td>\n",
       "      <td>св</td>\n",
       "      <td>16.01.2019 0:00</td>\n",
       "      <td>20.01.2019 0:00</td>\n",
       "    </tr>\n",
       "    <tr>\n",
       "      <th>3</th>\n",
       "      <td>Поставщик 2</td>\n",
       "      <td>свсвсв</td>\n",
       "      <td>01.01.2019 0:00</td>\n",
       "      <td>07.01.2019 0:00</td>\n",
       "    </tr>\n",
       "    <tr>\n",
       "      <th>4</th>\n",
       "      <td>Поставщик 2</td>\n",
       "      <td>днвсв</td>\n",
       "      <td>08.01.2019 0:00</td>\n",
       "      <td>14.01.2019 0:00</td>\n",
       "    </tr>\n",
       "    <tr>\n",
       "      <th>5</th>\n",
       "      <td>Поставщик 2</td>\n",
       "      <td>ннддвсв</td>\n",
       "      <td>15.01.2019 0:00</td>\n",
       "      <td>31.12.9999 0:00</td>\n",
       "    </tr>\n",
       "    <tr>\n",
       "      <th>6</th>\n",
       "      <td>Поставщик 3</td>\n",
       "      <td>нвнвнв</td>\n",
       "      <td>01.01.2019 0:00</td>\n",
       "      <td>01.02.2019 0:00</td>\n",
       "    </tr>\n",
       "    <tr>\n",
       "      <th>7</th>\n",
       "      <td>Поставщик 3</td>\n",
       "      <td>двдвдвдв</td>\n",
       "      <td>02.02.2019 0:00</td>\n",
       "      <td>31.12.9999 0:00</td>\n",
       "    </tr>\n",
       "  </tbody>\n",
       "</table>\n",
       "</div>"
      ],
      "text/plain": [
       "           ФИО Расписание Дата начала расписания Дата окончания расписания\n",
       "0  Поставщик 1   дддвсвнн        01.01.2019 0:00           10.01.2019 0:00\n",
       "1  Поставщик 1     ннвннв        11.01.2019 0:00           15.01.2019 0:00\n",
       "2  Поставщик 1         св        16.01.2019 0:00           20.01.2019 0:00\n",
       "3  Поставщик 2     свсвсв        01.01.2019 0:00           07.01.2019 0:00\n",
       "4  Поставщик 2      днвсв        08.01.2019 0:00           14.01.2019 0:00\n",
       "5  Поставщик 2    ннддвсв        15.01.2019 0:00           31.12.9999 0:00\n",
       "6  Поставщик 3     нвнвнв        01.01.2019 0:00           01.02.2019 0:00\n",
       "7  Поставщик 3   двдвдвдв        02.02.2019 0:00           31.12.9999 0:00"
      ]
     },
     "execution_count": 2,
     "metadata": {},
     "output_type": "execute_result"
    }
   ],
   "source": [
    "data = pd.read_csv('shedulers.csv', sep=';', encoding='cp1251')\n",
    "print(data.info())\n",
    "data"
   ]
  },
  {
   "cell_type": "markdown",
   "id": "exciting-eugene",
   "metadata": {},
   "source": [
    "## Задание 1\n",
    "\n",
    "Создать таблицу (T_CONTRACTOR_SHERULER) под расписание и заполнить его с файла schedulers.csv. (Использовать любую библиотеку для заливки в СУБД (как вариант MS SQL))  \n",
    "Таблицу следует нормализовать.\n",
    "\n",
    "- ID_NAME - идентификтор поставщика\n",
    "- NAME - название поставщика\n",
    "- SHEDULE - расписание\n",
    "- DATE_BEGIN - дата начала действия расписания\n",
    "- DATE_END - дата окончания действия расписания\n",
    "\n",
    "Пример записи без нормализации:\n",
    "Поставщик 1 ДВС 01.01.2019 04.01.2019\n",
    "Поставщик 2 НВС 05.01.2019 31.12.2019\n",
    "\n",
    "Вводные:\n",
    "- Связку полей FIO, DATE_BEGIN считать уникальной.\n",
    "- DATE_BEGIN не может привышать DATE_END.\n",
    "- Можете продемонстрировать работу с ключами/ограничениями"
   ]
  },
  {
   "cell_type": "markdown",
   "id": "employed-thing",
   "metadata": {},
   "source": [
    "Приводим данные к правильному виду"
   ]
  },
  {
   "cell_type": "code",
   "execution_count": 3,
   "id": "activated-chemical",
   "metadata": {},
   "outputs": [
    {
     "data": {
      "text/html": [
       "<div>\n",
       "<style scoped>\n",
       "    .dataframe tbody tr th:only-of-type {\n",
       "        vertical-align: middle;\n",
       "    }\n",
       "\n",
       "    .dataframe tbody tr th {\n",
       "        vertical-align: top;\n",
       "    }\n",
       "\n",
       "    .dataframe thead th {\n",
       "        text-align: right;\n",
       "    }\n",
       "</style>\n",
       "<table border=\"1\" class=\"dataframe\">\n",
       "  <thead>\n",
       "    <tr style=\"text-align: right;\">\n",
       "      <th></th>\n",
       "      <th>NAME</th>\n",
       "      <th>SHEDULE</th>\n",
       "      <th>DATE_BEGIN</th>\n",
       "      <th>DATE_END</th>\n",
       "    </tr>\n",
       "  </thead>\n",
       "  <tbody>\n",
       "    <tr>\n",
       "      <th>0</th>\n",
       "      <td>Поставщик 1</td>\n",
       "      <td>дддвсвнн</td>\n",
       "      <td>2019-01-01</td>\n",
       "      <td>2019-01-10</td>\n",
       "    </tr>\n",
       "    <tr>\n",
       "      <th>1</th>\n",
       "      <td>Поставщик 1</td>\n",
       "      <td>ннвннв</td>\n",
       "      <td>2019-01-11</td>\n",
       "      <td>2019-01-15</td>\n",
       "    </tr>\n",
       "    <tr>\n",
       "      <th>2</th>\n",
       "      <td>Поставщик 1</td>\n",
       "      <td>св</td>\n",
       "      <td>2019-01-16</td>\n",
       "      <td>2019-01-20</td>\n",
       "    </tr>\n",
       "    <tr>\n",
       "      <th>3</th>\n",
       "      <td>Поставщик 2</td>\n",
       "      <td>свсвсв</td>\n",
       "      <td>2019-01-01</td>\n",
       "      <td>2019-01-07</td>\n",
       "    </tr>\n",
       "    <tr>\n",
       "      <th>4</th>\n",
       "      <td>Поставщик 2</td>\n",
       "      <td>днвсв</td>\n",
       "      <td>2019-01-08</td>\n",
       "      <td>2019-01-14</td>\n",
       "    </tr>\n",
       "    <tr>\n",
       "      <th>5</th>\n",
       "      <td>Поставщик 2</td>\n",
       "      <td>ннддвсв</td>\n",
       "      <td>2019-01-15</td>\n",
       "      <td>2099-12-31</td>\n",
       "    </tr>\n",
       "    <tr>\n",
       "      <th>6</th>\n",
       "      <td>Поставщик 3</td>\n",
       "      <td>нвнвнв</td>\n",
       "      <td>2019-01-01</td>\n",
       "      <td>2019-02-01</td>\n",
       "    </tr>\n",
       "    <tr>\n",
       "      <th>7</th>\n",
       "      <td>Поставщик 3</td>\n",
       "      <td>двдвдвдв</td>\n",
       "      <td>2019-02-02</td>\n",
       "      <td>2099-12-31</td>\n",
       "    </tr>\n",
       "  </tbody>\n",
       "</table>\n",
       "</div>"
      ],
      "text/plain": [
       "          NAME   SHEDULE DATE_BEGIN   DATE_END\n",
       "0  Поставщик 1  дддвсвнн 2019-01-01 2019-01-10\n",
       "1  Поставщик 1    ннвннв 2019-01-11 2019-01-15\n",
       "2  Поставщик 1        св 2019-01-16 2019-01-20\n",
       "3  Поставщик 2    свсвсв 2019-01-01 2019-01-07\n",
       "4  Поставщик 2     днвсв 2019-01-08 2019-01-14\n",
       "5  Поставщик 2   ннддвсв 2019-01-15 2099-12-31\n",
       "6  Поставщик 3    нвнвнв 2019-01-01 2019-02-01\n",
       "7  Поставщик 3  двдвдвдв 2019-02-02 2099-12-31"
      ]
     },
     "execution_count": 3,
     "metadata": {},
     "output_type": "execute_result"
    }
   ],
   "source": [
    "data.columns = ['NAME','SHEDULE', 'DATE_BEGIN', 'DATE_END']\n",
    "data['DATE_BEGIN'] = pd.to_datetime(data['DATE_BEGIN'], dayfirst=True, errors='coerce').fillna(dt.datetime(2099,12,31))\n",
    "data['DATE_END'] = pd.to_datetime(data['DATE_END'], dayfirst=True, errors='coerce').fillna(dt.datetime(2099,12,31))\n",
    "data"
   ]
  },
  {
   "cell_type": "markdown",
   "id": "acoustic-kinase",
   "metadata": {},
   "source": [
    "Создаем базу данных и таблицу"
   ]
  },
  {
   "cell_type": "code",
   "execution_count": 4,
   "id": "revolutionary-wagner",
   "metadata": {
    "scrolled": true
   },
   "outputs": [],
   "source": [
    "con = pymysql.connect(host='localhost', user='root', password='')\n",
    "try:\n",
    "    cursor = con.cursor()\n",
    "    cursor.execute(\"CREATE DATABASE sheduler\")\n",
    "except Exception as e:\n",
    "    print(\"Exeception occured:{}\".format(e))\n",
    "finally:\n",
    "    con.close()"
   ]
  },
  {
   "cell_type": "code",
   "execution_count": 16,
   "id": "sixth-committee",
   "metadata": {},
   "outputs": [
    {
     "name": "stdout",
     "output_type": "stream",
     "text": [
      "('t_contractor_sheruler',)\n",
      "('t_contractor_work_day',)\n"
     ]
    }
   ],
   "source": [
    "con = pymysql.connect(host='localhost', user='root', password='', database='sheduler')\n",
    "try:\n",
    "    cursor = con.cursor()\n",
    "    cursor.execute(\"drop table if exists T_CONTRACTOR_SHERULER\")\n",
    "    query = \"CREATE TABLE T_CONTRACTOR_SHERULER(ID_NAME int PRIMARY KEY AUTO_INCREMENT, \\\n",
    "             NAME varchar(32) NOT NULL, SHEDULE varchar(32) NOT NULL, DATE_BEGIN date NOT NULL, DATE_END date NOT NULL, \\\n",
    "             CONSTRAINT name_date UNIQUE (NAME, DATE_BEGIN), \\\n",
    "             CONSTRAINT dates CHECK (DATE_BEGIN<=DATE_END))\"\n",
    "    cursor.execute(query)\n",
    "    cursor.execute(\"show tables\")\n",
    "    tables = cursor.fetchall()\n",
    "    for table in tables:\n",
    "        print(table)\n",
    "except Exception as e:\n",
    "    print(\"Exeception occured:{}\".format(e))\n",
    "finally:\n",
    "    con.close()"
   ]
  },
  {
   "cell_type": "markdown",
   "id": "dried-california",
   "metadata": {},
   "source": [
    "Самый простой вариант записать данные из pandas DataFrame в таблицу - методом pd.to_sql"
   ]
  },
  {
   "cell_type": "code",
   "execution_count": 17,
   "id": "diagnostic-snake",
   "metadata": {},
   "outputs": [
    {
     "name": "stderr",
     "output_type": "stream",
     "text": [
      "C:\\Users\\albri\\.conda\\envs\\python38\\lib\\site-packages\\pandas\\io\\sql.py:1422: UserWarning: The provided table name 'T_CONTRACTOR_SHERULER' is not found exactly as such in the database after writing the table, possibly due to case sensitivity issues. Consider using lower case table names.\n",
      "  warnings.warn(msg, UserWarning)\n"
     ]
    }
   ],
   "source": [
    "engine = create_engine(\"mysql+pymysql://root:@localhost/sheduler\", echo=False)\n",
    "data.to_sql('T_CONTRACTOR_SHERULER', con=engine, if_exists='append', index=False)"
   ]
  },
  {
   "cell_type": "markdown",
   "id": "exclusive-serum",
   "metadata": {},
   "source": [
    "Другой вариант - SQL-запросами через pymysql"
   ]
  },
  {
   "cell_type": "code",
   "execution_count": 7,
   "id": "entertaining-association",
   "metadata": {},
   "outputs": [],
   "source": [
    "con = pymysql.connect(host='localhost', user='root', password='', database='sheduler')\n",
    "try:\n",
    "    cursor = con.cursor()\n",
    "    cursor.execute(\"truncate table T_CONTRACTOR_SHERULER\")\n",
    "    \n",
    "    for ind, row in data.iterrows():\n",
    "        date1 = dt.date.strftime(row['DATE_BEGIN'], '%Y-%m-%d')\n",
    "        date2 = dt.date.strftime(row['DATE_END'], '%Y-%m-%d')\n",
    "        query = 'INSERT INTO T_CONTRACTOR_SHERULER VALUES (DEFAULT, %s, %s, %s, %s)'\n",
    "        cursor.execute(query, (row['NAME'], row['SHEDULE'], date1, date2))\n",
    "    con.commit()\n",
    "    \n",
    "except Exception as e:\n",
    "    print(\"Exeception occured:{}\".format(e))\n",
    "finally:\n",
    "    con.close()"
   ]
  },
  {
   "cell_type": "markdown",
   "id": "lesser-saudi",
   "metadata": {},
   "source": [
    "## Задание 2\n",
    "Создать таблицу (T_CONTRACTOR_WORK_DAY) выходов на работу сотрудников.\n",
    "Таблица должна иметь следующий вид:\n",
    "- ID - идентификатор записи\n",
    "- NAME - название поставщика\n",
    "- DATE_BEGIN - Начало рабочего дня (datetime)\n",
    "- DATE_END - Конец рабочего дня (datetime)"
   ]
  },
  {
   "cell_type": "code",
   "execution_count": 8,
   "id": "accessible-blowing",
   "metadata": {},
   "outputs": [],
   "source": [
    "con = pymysql.connect(host='localhost', user='root', password='', database='sheduler')\n",
    "try:\n",
    "    cursor = con.cursor()\n",
    "    cursor.execute(\"drop table if exists T_CONTRACTOR_WORK_DAY\")\n",
    "    query = \"CREATE TABLE T_CONTRACTOR_WORK_DAY(ID int PRIMARY KEY AUTO_INCREMENT, NAME varchar(32) NOT NULL, \\\n",
    "             DATE_BEGIN datetime NOT NULL, DATE_END datetime NOT NULL, \\\n",
    "             CONSTRAINT name_date UNIQUE (NAME, DATE_BEGIN))\"\n",
    "    cursor.execute(query)\n",
    "except Exception as e:\n",
    "    print(\"Exeception occured:{}\".format(e))\n",
    "finally:\n",
    "    con.close()"
   ]
  },
  {
   "cell_type": "markdown",
   "id": "collect-colonial",
   "metadata": {},
   "source": [
    "## Задание 3\n",
    "Создать процедуру расчета рабочих дней.\n",
    "\n",
    "Входящие параметры:\n",
    "- Дата начала периода расчета\n",
    "- Дата окончания периода расчета.\n",
    "\n",
    "Ожидаемый результать выполнения хранимой процедуры - заполнение таблицы T_CONTRACTOR_WORK_DAY рабочими днями согласно расписания работы поставщиков из таблицы T_CONTRACTOR_SHERULER. Выходные дни (В) не должны попадать в таблицу T_CONTRACTOR_WORK_DAY\n",
    "\n",
    "Пример выполнения для Поставщика 1 (Из примера записи таблицы T_CONTRACTOR_SHERULER) с параметрами '01.01.2019' - '08.01.2019'. Таблица T_CONTRACTOR_WORK_DAY заполнится следующими данными:\n",
    "- 1 Поставщик 1 01.01.2019 08:00 01.01.2019 20:00\n",
    "- 2 Поставщик 1 03.01.2019 08:00 04.01.2019 08:00\n",
    "- 3 Поставщик 1 04.01.2019 08:00 04.01.2019 08:00\n",
    "- 4 Поставщик 1 05.01.2019 20:00 06.01.2019 08:00\n",
    "- 5 Поставщик 1 07.01.2019 08:00 08.01.2019 08:00\n",
    "- 6 Поставщик 1 08.01.2019 20:00 09.01.2019 08:00\n",
    "\n",
    "Пояснение: для записей с 01.01.2019 по 04.01.2019 берется расписание ДВС\n",
    "\n",
    "- 1 - Д - дневная смена далее следует выходной В - запись о выходном дне не попадает в таблицу\n",
    "- 2 - С - суточная смена\n",
    "- 3 - расписание закончилось, поэтому оно циклично начинается с начала (Д - дневная смена)\n",
    "- 4 - С 05.01.2019 начинает действовать новое расписание - НВС берется Н - ночная смена далее следует выходной В - запись о выходном дне не попадает в таблицу\n",
    "- 5 - С - суточная смена\n",
    "- 6 - Снова Н - ночная смена"
   ]
  },
  {
   "cell_type": "markdown",
   "id": "black-direction",
   "metadata": {},
   "source": [
    "```SQL\n",
    "delimiter //\n",
    "CREATE PROCEDURE worktable(sdate1 CHAR(10), sdate2 CHAR(10))\n",
    "BEGIN\n",
    "  DECLARE date1 DATE DEFAULT STR_TO_DATE(sdate1, \"%d.%m.%Y\");\n",
    "  DECLARE date2 DATE DEFAULT STR_TO_DATE(sdate2, \"%d.%m.%Y\");\n",
    "  DECLARE cur_date, row_date1, row_date2 DATE;\n",
    "  DECLARE shift INT;\n",
    "  DECLARE row_name, row_shed char(20);\n",
    "  DECLARE done INT DEFAULT FALSE;\n",
    "  \n",
    "  -- сразу выберем только те строки, которые попадают в нужные даты\n",
    "  DECLARE cur CURSOR FOR SELECT name,shedule,date_begin,date_end \n",
    "                         FROM T_CONTRACTOR_SHERULER \n",
    "                         WHERE NOT (date1>date_end OR date2<date_begin);\n",
    "                         \n",
    "  -- открываем курсор\n",
    "  DECLARE CONTINUE HANDLER FOR NOT FOUND SET done=TRUE;\n",
    "  OPEN cur;\n",
    "  \n",
    "  -- цикл по строкам\n",
    "  row_loop: WHILE NOT done DO\n",
    "     FETCH cur INTO row_name, row_shed, row_date1, row_date2;\n",
    "     IF NOT done THEN\n",
    "        -- определяем первый нужный день внутри строки\n",
    "     \tSET cur_date = date1;\n",
    "        IF row_date1 > date1 THEN\n",
    "          SET cur_date = row_date1;\n",
    "        end IF;\n",
    "        \n",
    "     \t-- цикл по датам внутри строки\n",
    "        date_loop: WHILE cur_date <= row_date2 AND cur_date <= date2 DO\n",
    "          -- определяем тип расписания для текущей даты\n",
    "          SET shift = datediff(cur_date, row_date1) % CHAR_LENGTH(row_shed);\n",
    "          CASE substring(row_shed, shift+1, 1)\n",
    "            WHEN 'д' THEN INSERT INTO t_contractor_work_day VALUES (DEFAULT, row_name, date_add(cur_date, INTERVAL 8 hour), date_add(cur_date, interval 20 hour));\n",
    "            WHEN 'н' THEN INSERT INTO t_contractor_work_day VALUES (DEFAULT, row_name, date_add(cur_date, INTERVAL 20 hour), date_add(cur_date, interval 32 hour));\n",
    "            WHEN 'с' THEN INSERT INTO t_contractor_work_day VALUES (DEFAULT, row_name, date_add(cur_date, INTERVAL 8 hour), date_add(cur_date, interval 32 hour));\n",
    "            ELSE BEGIN END; \n",
    "          END CASE;\n",
    "          SET cur_date = date_add(cur_date, INTERVAL 1 day);\n",
    "        END WHILE date_loop;\n",
    "        \n",
    "     END IF;\n",
    "  END WHILE row_loop;\n",
    "  CLOSE cur;\n",
    "END //\n",
    "\n",
    "delimiter ;\n",
    "```"
   ]
  },
  {
   "cell_type": "markdown",
   "id": "eastern-vintage",
   "metadata": {},
   "source": [
    "## Задание 4\n",
    "С помощью SQL запросов:\n",
    "- Сделать выборку содержащую сколько рабочих дней было у каждого поставщика\n",
    "- Сделать выборку поставщиков, у которых было больше 10 рабочих дней за январь 2019 года\n",
    "- Сделать выборку поставщиков, кто работал 14, 15 и 16 января 2019 года"
   ]
  },
  {
   "cell_type": "markdown",
   "id": "executed-valve",
   "metadata": {},
   "source": [
    "Сколько рабочих дней у каждого поставщика"
   ]
  },
  {
   "cell_type": "markdown",
   "id": "passive-engineering",
   "metadata": {},
   "source": [
    "```sql\n",
    "SELECT name, count(*) as 'work days'\n",
    "FROM t_contractor_work_day\n",
    "group by name\n",
    "```"
   ]
  },
  {
   "cell_type": "markdown",
   "id": "sharp-portfolio",
   "metadata": {},
   "source": [
    "Выборка поставщиков, у которых было больше 10 рабочих дней за январь 2019 года"
   ]
  },
  {
   "cell_type": "markdown",
   "id": "false-pizza",
   "metadata": {},
   "source": [
    "```sql\n",
    "SELECT name, count(*) as 'work days'\n",
    "FROM t_contractor_work_day\n",
    "where date_begin between '2019-01-01' and '2019-01-31 23:59:59'\n",
    "group by name\n",
    "having count(*) > 10\n",
    "```"
   ]
  },
  {
   "cell_type": "markdown",
   "id": "nearby-hughes",
   "metadata": {},
   "source": [
    "Второй вариант, если нужно вывести только список постащиков без указания кол-ва рабочих дней"
   ]
  },
  {
   "cell_type": "markdown",
   "id": "naughty-chorus",
   "metadata": {},
   "source": [
    "```sql\n",
    "SELECT name\n",
    "FROM (\n",
    "    SELECT name, count(*) AS 'work days'\n",
    "    FROM t_contractor_work_day\n",
    "    WHERE date_begin BETWEEN '2019-01-01' AND '2019-01-31 23:59:59'\n",
    "    GROUP BY name\n",
    "    HAVING count(*) > 10) AS t\n",
    "```"
   ]
  },
  {
   "cell_type": "markdown",
   "id": "respiratory-palace",
   "metadata": {},
   "source": [
    "Выборка поставщиков, кто работал 14, 15 и 16 января 2019 года (предполагаю, что имеется в виду любой из этих дней)"
   ]
  },
  {
   "cell_type": "markdown",
   "id": "decimal-emperor",
   "metadata": {},
   "source": [
    "```sql\n",
    "SELECT *\n",
    "FROM t_contractor_work_day\n",
    "WHERE date_begin BETWEEN '2019-01-14' AND '2019-01-16 23:59:59'\n",
    "   or date_end BETWEEN '2019-01-14' AND '2019-01-16 23:59:59'\n",
    "```"
   ]
  },
  {
   "cell_type": "markdown",
   "id": "honey-vision",
   "metadata": {},
   "source": [
    "Запрос выше учитывает в том числе вечерние и суточные смены, которые начались 13 числа и заканчиваются 16. Если нужно взять только те смены, которые _начинаются_ 14, 15 или 16 января, достаточно удалить проверку условия date_end.  \n",
    "Вариант, если нужно вывести только список поставщиков без указания смен:"
   ]
  },
  {
   "cell_type": "markdown",
   "id": "metallic-valuation",
   "metadata": {},
   "source": [
    "```sql\n",
    "SELECT distinct name\n",
    "FROM t_contractor_work_day\n",
    "WHERE date_begin BETWEEN '2019-01-14' AND '2019-01-16 23:59:59'\n",
    "   or date_end BETWEEN '2019-01-14' AND '2019-01-16 23:59:59'\n",
    "```"
   ]
  },
  {
   "cell_type": "markdown",
   "id": "editorial-weight",
   "metadata": {},
   "source": [
    "## Задание 5\n",
    "Выполните задачи 3, 4 с помощью python."
   ]
  },
  {
   "cell_type": "code",
   "execution_count": 9,
   "id": "informal-missile",
   "metadata": {},
   "outputs": [],
   "source": [
    "def calc_work_days(date1, date2):\n",
    "\n",
    "    date1 = dt.datetime.strptime(date1,'%d.%m.%Y')\n",
    "    date2 = dt.datetime.strptime(date2,'%d.%m.%Y')\n",
    "    subdata = data[~((date1>data['DATE_END']) | (date2<data['DATE_BEGIN']))]\n",
    "    work_days = []\n",
    "\n",
    "    for ind, row in subdata.iterrows():\n",
    "\n",
    "        date_sub1 = date1 if date1>row['DATE_BEGIN'] else row['DATE_BEGIN']\n",
    "        date_sub2 = date2 if date2<row['DATE_END'] else row['DATE_END']\n",
    "\n",
    "        for date in pd.date_range(date_sub1, date_sub2):\n",
    "\n",
    "            shift = (date - row['DATE_BEGIN']).days\n",
    "            shift %= len(row['SHEDULE'])\n",
    "            shed = row['SHEDULE'][shift]\n",
    "\n",
    "            if shed=='д':\n",
    "                work_days.append([row['NAME'], date+dt.timedelta(hours=8), date+dt.timedelta(hours=20)])\n",
    "            if shed=='н':\n",
    "                work_days.append([row['NAME'], date+dt.timedelta(hours=20), date+dt.timedelta(hours=32)])\n",
    "            if shed=='с':\n",
    "                work_days.append([row['NAME'], date+dt.timedelta(hours=8), date+dt.timedelta(hours=32)])\n",
    "\n",
    "    return pd.DataFrame(work_days, columns=['NAME','DATE_BEGIN','DATE_END'])"
   ]
  },
  {
   "cell_type": "code",
   "execution_count": 10,
   "id": "surprised-phrase",
   "metadata": {},
   "outputs": [
    {
     "data": {
      "text/html": [
       "<div>\n",
       "<style scoped>\n",
       "    .dataframe tbody tr th:only-of-type {\n",
       "        vertical-align: middle;\n",
       "    }\n",
       "\n",
       "    .dataframe tbody tr th {\n",
       "        vertical-align: top;\n",
       "    }\n",
       "\n",
       "    .dataframe thead th {\n",
       "        text-align: right;\n",
       "    }\n",
       "</style>\n",
       "<table border=\"1\" class=\"dataframe\">\n",
       "  <thead>\n",
       "    <tr style=\"text-align: right;\">\n",
       "      <th></th>\n",
       "      <th>NAME</th>\n",
       "      <th>DATE_BEGIN</th>\n",
       "      <th>DATE_END</th>\n",
       "    </tr>\n",
       "  </thead>\n",
       "  <tbody>\n",
       "    <tr>\n",
       "      <th>0</th>\n",
       "      <td>Поставщик 1</td>\n",
       "      <td>2019-01-01 08:00:00</td>\n",
       "      <td>2019-01-01 20:00:00</td>\n",
       "    </tr>\n",
       "    <tr>\n",
       "      <th>1</th>\n",
       "      <td>Поставщик 1</td>\n",
       "      <td>2019-01-02 08:00:00</td>\n",
       "      <td>2019-01-02 20:00:00</td>\n",
       "    </tr>\n",
       "    <tr>\n",
       "      <th>2</th>\n",
       "      <td>Поставщик 1</td>\n",
       "      <td>2019-01-03 08:00:00</td>\n",
       "      <td>2019-01-03 20:00:00</td>\n",
       "    </tr>\n",
       "    <tr>\n",
       "      <th>3</th>\n",
       "      <td>Поставщик 1</td>\n",
       "      <td>2019-01-05 08:00:00</td>\n",
       "      <td>2019-01-06 08:00:00</td>\n",
       "    </tr>\n",
       "    <tr>\n",
       "      <th>4</th>\n",
       "      <td>Поставщик 1</td>\n",
       "      <td>2019-01-07 20:00:00</td>\n",
       "      <td>2019-01-08 08:00:00</td>\n",
       "    </tr>\n",
       "    <tr>\n",
       "      <th>...</th>\n",
       "      <td>...</td>\n",
       "      <td>...</td>\n",
       "      <td>...</td>\n",
       "    </tr>\n",
       "    <tr>\n",
       "      <th>82</th>\n",
       "      <td>Поставщик 3</td>\n",
       "      <td>2019-02-20 08:00:00</td>\n",
       "      <td>2019-02-20 20:00:00</td>\n",
       "    </tr>\n",
       "    <tr>\n",
       "      <th>83</th>\n",
       "      <td>Поставщик 3</td>\n",
       "      <td>2019-02-22 08:00:00</td>\n",
       "      <td>2019-02-22 20:00:00</td>\n",
       "    </tr>\n",
       "    <tr>\n",
       "      <th>84</th>\n",
       "      <td>Поставщик 3</td>\n",
       "      <td>2019-02-24 08:00:00</td>\n",
       "      <td>2019-02-24 20:00:00</td>\n",
       "    </tr>\n",
       "    <tr>\n",
       "      <th>85</th>\n",
       "      <td>Поставщик 3</td>\n",
       "      <td>2019-02-26 08:00:00</td>\n",
       "      <td>2019-02-26 20:00:00</td>\n",
       "    </tr>\n",
       "    <tr>\n",
       "      <th>86</th>\n",
       "      <td>Поставщик 3</td>\n",
       "      <td>2019-02-28 08:00:00</td>\n",
       "      <td>2019-02-28 20:00:00</td>\n",
       "    </tr>\n",
       "  </tbody>\n",
       "</table>\n",
       "<p>87 rows × 3 columns</p>\n",
       "</div>"
      ],
      "text/plain": [
       "           NAME          DATE_BEGIN            DATE_END\n",
       "0   Поставщик 1 2019-01-01 08:00:00 2019-01-01 20:00:00\n",
       "1   Поставщик 1 2019-01-02 08:00:00 2019-01-02 20:00:00\n",
       "2   Поставщик 1 2019-01-03 08:00:00 2019-01-03 20:00:00\n",
       "3   Поставщик 1 2019-01-05 08:00:00 2019-01-06 08:00:00\n",
       "4   Поставщик 1 2019-01-07 20:00:00 2019-01-08 08:00:00\n",
       "..          ...                 ...                 ...\n",
       "82  Поставщик 3 2019-02-20 08:00:00 2019-02-20 20:00:00\n",
       "83  Поставщик 3 2019-02-22 08:00:00 2019-02-22 20:00:00\n",
       "84  Поставщик 3 2019-02-24 08:00:00 2019-02-24 20:00:00\n",
       "85  Поставщик 3 2019-02-26 08:00:00 2019-02-26 20:00:00\n",
       "86  Поставщик 3 2019-02-28 08:00:00 2019-02-28 20:00:00\n",
       "\n",
       "[87 rows x 3 columns]"
      ]
     },
     "execution_count": 10,
     "metadata": {},
     "output_type": "execute_result"
    }
   ],
   "source": [
    "work_days = calc_work_days('01.01.2019', '28.02.2019')\n",
    "work_days"
   ]
  },
  {
   "cell_type": "markdown",
   "id": "outstanding-rehabilitation",
   "metadata": {},
   "source": [
    "Количество рабчих дней у каждого поставщика"
   ]
  },
  {
   "cell_type": "code",
   "execution_count": 11,
   "id": "transparent-property",
   "metadata": {},
   "outputs": [
    {
     "data": {
      "text/plain": [
       "Поставщик 2    42\n",
       "Поставщик 3    30\n",
       "Поставщик 1    15\n",
       "Name: NAME, dtype: int64"
      ]
     },
     "execution_count": 11,
     "metadata": {},
     "output_type": "execute_result"
    }
   ],
   "source": [
    "work_days['NAME'].value_counts()"
   ]
  },
  {
   "cell_type": "markdown",
   "id": "southeast-mouse",
   "metadata": {},
   "source": [
    "Выборка поставщиков, у которых было больше 10 рабочих дней за январь 2019 года"
   ]
  },
  {
   "cell_type": "code",
   "execution_count": 12,
   "id": "brutal-samba",
   "metadata": {},
   "outputs": [
    {
     "data": {
      "text/plain": [
       "Поставщик 2    22\n",
       "Поставщик 3    16\n",
       "Поставщик 1    15\n",
       "Name: NAME, dtype: int64"
      ]
     },
     "execution_count": 12,
     "metadata": {},
     "output_type": "execute_result"
    }
   ],
   "source": [
    "work_days[(work_days['DATE_BEGIN'] >= dt.datetime(2019,1,1)) \n",
    "          & (work_days['DATE_BEGIN'] < dt.datetime(2019,2,1))]['NAME'].value_counts()"
   ]
  },
  {
   "cell_type": "code",
   "execution_count": 13,
   "id": "according-medicine",
   "metadata": {},
   "outputs": [
    {
     "data": {
      "text/plain": [
       "Index(['Поставщик 2', 'Поставщик 3', 'Поставщик 1'], dtype='object')"
      ]
     },
     "execution_count": 13,
     "metadata": {},
     "output_type": "execute_result"
    }
   ],
   "source": [
    "work_days[(work_days['DATE_BEGIN'] >= dt.datetime(2019,1,1)) \n",
    "          & (work_days['DATE_BEGIN'] < dt.datetime(2019,2,1))]['NAME'].value_counts().index"
   ]
  },
  {
   "cell_type": "markdown",
   "id": "upper-infection",
   "metadata": {},
   "source": [
    "Выборка поставщиков, кто работал 14, 15 и 16 января 2019 года"
   ]
  },
  {
   "cell_type": "code",
   "execution_count": 14,
   "id": "valid-skating",
   "metadata": {},
   "outputs": [
    {
     "data": {
      "text/html": [
       "<div>\n",
       "<style scoped>\n",
       "    .dataframe tbody tr th:only-of-type {\n",
       "        vertical-align: middle;\n",
       "    }\n",
       "\n",
       "    .dataframe tbody tr th {\n",
       "        vertical-align: top;\n",
       "    }\n",
       "\n",
       "    .dataframe thead th {\n",
       "        text-align: right;\n",
       "    }\n",
       "</style>\n",
       "<table border=\"1\" class=\"dataframe\">\n",
       "  <thead>\n",
       "    <tr style=\"text-align: right;\">\n",
       "      <th></th>\n",
       "      <th>NAME</th>\n",
       "      <th>DATE_BEGIN</th>\n",
       "      <th>DATE_END</th>\n",
       "    </tr>\n",
       "  </thead>\n",
       "  <tbody>\n",
       "    <tr>\n",
       "      <th>10</th>\n",
       "      <td>Поставщик 1</td>\n",
       "      <td>2019-01-14 20:00:00</td>\n",
       "      <td>2019-01-15 08:00:00</td>\n",
       "    </tr>\n",
       "    <tr>\n",
       "      <th>11</th>\n",
       "      <td>Поставщик 1</td>\n",
       "      <td>2019-01-15 20:00:00</td>\n",
       "      <td>2019-01-16 08:00:00</td>\n",
       "    </tr>\n",
       "    <tr>\n",
       "      <th>12</th>\n",
       "      <td>Поставщик 1</td>\n",
       "      <td>2019-01-16 08:00:00</td>\n",
       "      <td>2019-01-17 08:00:00</td>\n",
       "    </tr>\n",
       "    <tr>\n",
       "      <th>23</th>\n",
       "      <td>Поставщик 2</td>\n",
       "      <td>2019-01-14 20:00:00</td>\n",
       "      <td>2019-01-15 08:00:00</td>\n",
       "    </tr>\n",
       "    <tr>\n",
       "      <th>24</th>\n",
       "      <td>Поставщик 2</td>\n",
       "      <td>2019-01-15 20:00:00</td>\n",
       "      <td>2019-01-16 08:00:00</td>\n",
       "    </tr>\n",
       "    <tr>\n",
       "      <th>25</th>\n",
       "      <td>Поставщик 2</td>\n",
       "      <td>2019-01-16 20:00:00</td>\n",
       "      <td>2019-01-17 08:00:00</td>\n",
       "    </tr>\n",
       "    <tr>\n",
       "      <th>63</th>\n",
       "      <td>Поставщик 3</td>\n",
       "      <td>2019-01-13 20:00:00</td>\n",
       "      <td>2019-01-14 08:00:00</td>\n",
       "    </tr>\n",
       "    <tr>\n",
       "      <th>64</th>\n",
       "      <td>Поставщик 3</td>\n",
       "      <td>2019-01-15 20:00:00</td>\n",
       "      <td>2019-01-16 08:00:00</td>\n",
       "    </tr>\n",
       "  </tbody>\n",
       "</table>\n",
       "</div>"
      ],
      "text/plain": [
       "           NAME          DATE_BEGIN            DATE_END\n",
       "10  Поставщик 1 2019-01-14 20:00:00 2019-01-15 08:00:00\n",
       "11  Поставщик 1 2019-01-15 20:00:00 2019-01-16 08:00:00\n",
       "12  Поставщик 1 2019-01-16 08:00:00 2019-01-17 08:00:00\n",
       "23  Поставщик 2 2019-01-14 20:00:00 2019-01-15 08:00:00\n",
       "24  Поставщик 2 2019-01-15 20:00:00 2019-01-16 08:00:00\n",
       "25  Поставщик 2 2019-01-16 20:00:00 2019-01-17 08:00:00\n",
       "63  Поставщик 3 2019-01-13 20:00:00 2019-01-14 08:00:00\n",
       "64  Поставщик 3 2019-01-15 20:00:00 2019-01-16 08:00:00"
      ]
     },
     "execution_count": 14,
     "metadata": {},
     "output_type": "execute_result"
    }
   ],
   "source": [
    "start_date = dt.datetime(2019,1,14)\n",
    "end_date = dt.datetime(2019,1,16,23,59,59)\n",
    "work_days[(work_days['DATE_BEGIN'].between(start_date, end_date)) | \n",
    "          (work_days['DATE_END'].between(start_date, end_date))]"
   ]
  },
  {
   "cell_type": "code",
   "execution_count": 15,
   "id": "announced-anger",
   "metadata": {},
   "outputs": [
    {
     "data": {
      "text/plain": [
       "array(['Поставщик 1', 'Поставщик 2', 'Поставщик 3'], dtype=object)"
      ]
     },
     "execution_count": 15,
     "metadata": {},
     "output_type": "execute_result"
    }
   ],
   "source": [
    "start_date = dt.datetime(2019,1,14)\n",
    "end_date = dt.datetime(2019,1,16,23,59,59)\n",
    "work_days[(work_days['DATE_BEGIN'].between(start_date, end_date)) | \n",
    "          (work_days['DATE_END'].between(start_date, end_date))]['NAME'].unique()"
   ]
  },
  {
   "cell_type": "code",
   "execution_count": null,
   "id": "certain-demand",
   "metadata": {},
   "outputs": [],
   "source": []
  }
 ],
 "metadata": {
  "kernelspec": {
   "display_name": "Python 3",
   "language": "python",
   "name": "python3"
  },
  "language_info": {
   "codemirror_mode": {
    "name": "ipython",
    "version": 3
   },
   "file_extension": ".py",
   "mimetype": "text/x-python",
   "name": "python",
   "nbconvert_exporter": "python",
   "pygments_lexer": "ipython3",
   "version": "3.8.5"
  }
 },
 "nbformat": 4,
 "nbformat_minor": 5
}
