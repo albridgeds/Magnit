{
 "cells": [
  {
   "cell_type": "markdown",
   "id": "noticed-oliver",
   "metadata": {},
   "source": [
    "## Задача 2:\n",
    "* Проведите аналитику полученных данных\n",
    "* Подготовьте данные для модели классификации\n",
    "* Обучите модель классификации и осуществите прогноз для отложенной выборки с учетом перекоса в данных TARGET\n",
    "* Оцените качество модели с помощью функции f1_score"
   ]
  },
  {
   "cell_type": "code",
   "execution_count": 1,
   "id": "greek-height",
   "metadata": {},
   "outputs": [],
   "source": [
    "import pandas as pd\n",
    "import numpy as np\n",
    "import seaborn as sns\n",
    "import matplotlib.pylab as plt\n",
    "from pylab import rcParams\n",
    "\n",
    "from sklearn.model_selection import train_test_split, RandomizedSearchCV\n",
    "from sklearn.dummy import DummyClassifier\n",
    "from sklearn.metrics import f1_score, confusion_matrix\n",
    "from sklearn.preprocessing import StandardScaler\n",
    "from sklearn.linear_model import LogisticRegression\n",
    "from sklearn.dummy import DummyClassifier\n",
    "from sklearn.tree import DecisionTreeClassifier\n",
    "from sklearn.ensemble import RandomForestClassifier\n",
    "from sklearn.svm import LinearSVC\n",
    "from sklearn.neighbors import KNeighborsClassifier\n",
    "\n",
    "from scipy.stats import randint, uniform, loguniform\n",
    "\n",
    "import lightgbm as lgb\n",
    "\n",
    "rcParams['figure.figsize'] = 16, 4"
   ]
  },
  {
   "cell_type": "markdown",
   "id": "speaking-blues",
   "metadata": {},
   "source": [
    "### Загрузка данных"
   ]
  },
  {
   "cell_type": "code",
   "execution_count": 2,
   "id": "furnished-coordinate",
   "metadata": {},
   "outputs": [
    {
     "name": "stdout",
     "output_type": "stream",
     "text": [
      "<class 'pandas.core.frame.DataFrame'>\n",
      "RangeIndex: 303 entries, 0 to 302\n",
      "Data columns (total 14 columns):\n",
      " #   Column      Non-Null Count  Dtype  \n",
      "---  ------      --------------  -----  \n",
      " 0   AGE         303 non-null    int64  \n",
      " 1   GENDER      303 non-null    int64  \n",
      " 2   FEATURE_1   303 non-null    int64  \n",
      " 3   FEATURE_2   303 non-null    int64  \n",
      " 4   FEATURE_3   303 non-null    int64  \n",
      " 5   FEATURE_4   303 non-null    int64  \n",
      " 6   FEATURE_5   303 non-null    int64  \n",
      " 7   FEATURE_6   303 non-null    int64  \n",
      " 8   FEATURE_7   303 non-null    int64  \n",
      " 9   FEATURE_8   303 non-null    float64\n",
      " 10  FEATURE_9   303 non-null    int64  \n",
      " 11  FEATURE_10  303 non-null    int64  \n",
      " 12  FEATURE_11  303 non-null    int64  \n",
      " 13  TARGET      303 non-null    int64  \n",
      "dtypes: float64(1), int64(13)\n",
      "memory usage: 33.3 KB\n"
     ]
    },
    {
     "data": {
      "text/html": [
       "<div>\n",
       "<style scoped>\n",
       "    .dataframe tbody tr th:only-of-type {\n",
       "        vertical-align: middle;\n",
       "    }\n",
       "\n",
       "    .dataframe tbody tr th {\n",
       "        vertical-align: top;\n",
       "    }\n",
       "\n",
       "    .dataframe thead th {\n",
       "        text-align: right;\n",
       "    }\n",
       "</style>\n",
       "<table border=\"1\" class=\"dataframe\">\n",
       "  <thead>\n",
       "    <tr style=\"text-align: right;\">\n",
       "      <th></th>\n",
       "      <th>AGE</th>\n",
       "      <th>GENDER</th>\n",
       "      <th>FEATURE_1</th>\n",
       "      <th>FEATURE_2</th>\n",
       "      <th>FEATURE_3</th>\n",
       "      <th>FEATURE_4</th>\n",
       "      <th>FEATURE_5</th>\n",
       "      <th>FEATURE_6</th>\n",
       "      <th>FEATURE_7</th>\n",
       "      <th>FEATURE_8</th>\n",
       "      <th>FEATURE_9</th>\n",
       "      <th>FEATURE_10</th>\n",
       "      <th>FEATURE_11</th>\n",
       "      <th>TARGET</th>\n",
       "    </tr>\n",
       "  </thead>\n",
       "  <tbody>\n",
       "    <tr>\n",
       "      <th>0</th>\n",
       "      <td>63</td>\n",
       "      <td>1</td>\n",
       "      <td>3</td>\n",
       "      <td>145</td>\n",
       "      <td>233</td>\n",
       "      <td>1</td>\n",
       "      <td>0</td>\n",
       "      <td>150</td>\n",
       "      <td>0</td>\n",
       "      <td>2.3</td>\n",
       "      <td>0</td>\n",
       "      <td>0</td>\n",
       "      <td>1</td>\n",
       "      <td>1</td>\n",
       "    </tr>\n",
       "    <tr>\n",
       "      <th>1</th>\n",
       "      <td>37</td>\n",
       "      <td>1</td>\n",
       "      <td>2</td>\n",
       "      <td>130</td>\n",
       "      <td>250</td>\n",
       "      <td>0</td>\n",
       "      <td>1</td>\n",
       "      <td>187</td>\n",
       "      <td>0</td>\n",
       "      <td>3.5</td>\n",
       "      <td>0</td>\n",
       "      <td>0</td>\n",
       "      <td>2</td>\n",
       "      <td>1</td>\n",
       "    </tr>\n",
       "    <tr>\n",
       "      <th>2</th>\n",
       "      <td>41</td>\n",
       "      <td>0</td>\n",
       "      <td>1</td>\n",
       "      <td>130</td>\n",
       "      <td>204</td>\n",
       "      <td>0</td>\n",
       "      <td>0</td>\n",
       "      <td>172</td>\n",
       "      <td>0</td>\n",
       "      <td>1.4</td>\n",
       "      <td>2</td>\n",
       "      <td>0</td>\n",
       "      <td>2</td>\n",
       "      <td>1</td>\n",
       "    </tr>\n",
       "    <tr>\n",
       "      <th>3</th>\n",
       "      <td>56</td>\n",
       "      <td>1</td>\n",
       "      <td>1</td>\n",
       "      <td>120</td>\n",
       "      <td>236</td>\n",
       "      <td>0</td>\n",
       "      <td>1</td>\n",
       "      <td>178</td>\n",
       "      <td>0</td>\n",
       "      <td>0.8</td>\n",
       "      <td>2</td>\n",
       "      <td>0</td>\n",
       "      <td>2</td>\n",
       "      <td>1</td>\n",
       "    </tr>\n",
       "    <tr>\n",
       "      <th>4</th>\n",
       "      <td>57</td>\n",
       "      <td>0</td>\n",
       "      <td>0</td>\n",
       "      <td>120</td>\n",
       "      <td>354</td>\n",
       "      <td>0</td>\n",
       "      <td>1</td>\n",
       "      <td>163</td>\n",
       "      <td>1</td>\n",
       "      <td>0.6</td>\n",
       "      <td>2</td>\n",
       "      <td>0</td>\n",
       "      <td>2</td>\n",
       "      <td>1</td>\n",
       "    </tr>\n",
       "    <tr>\n",
       "      <th>...</th>\n",
       "      <td>...</td>\n",
       "      <td>...</td>\n",
       "      <td>...</td>\n",
       "      <td>...</td>\n",
       "      <td>...</td>\n",
       "      <td>...</td>\n",
       "      <td>...</td>\n",
       "      <td>...</td>\n",
       "      <td>...</td>\n",
       "      <td>...</td>\n",
       "      <td>...</td>\n",
       "      <td>...</td>\n",
       "      <td>...</td>\n",
       "      <td>...</td>\n",
       "    </tr>\n",
       "    <tr>\n",
       "      <th>298</th>\n",
       "      <td>57</td>\n",
       "      <td>0</td>\n",
       "      <td>0</td>\n",
       "      <td>140</td>\n",
       "      <td>241</td>\n",
       "      <td>0</td>\n",
       "      <td>1</td>\n",
       "      <td>123</td>\n",
       "      <td>1</td>\n",
       "      <td>0.2</td>\n",
       "      <td>1</td>\n",
       "      <td>0</td>\n",
       "      <td>3</td>\n",
       "      <td>0</td>\n",
       "    </tr>\n",
       "    <tr>\n",
       "      <th>299</th>\n",
       "      <td>45</td>\n",
       "      <td>1</td>\n",
       "      <td>3</td>\n",
       "      <td>110</td>\n",
       "      <td>264</td>\n",
       "      <td>0</td>\n",
       "      <td>1</td>\n",
       "      <td>132</td>\n",
       "      <td>0</td>\n",
       "      <td>1.2</td>\n",
       "      <td>1</td>\n",
       "      <td>0</td>\n",
       "      <td>3</td>\n",
       "      <td>0</td>\n",
       "    </tr>\n",
       "    <tr>\n",
       "      <th>300</th>\n",
       "      <td>68</td>\n",
       "      <td>1</td>\n",
       "      <td>0</td>\n",
       "      <td>144</td>\n",
       "      <td>193</td>\n",
       "      <td>1</td>\n",
       "      <td>1</td>\n",
       "      <td>141</td>\n",
       "      <td>0</td>\n",
       "      <td>3.4</td>\n",
       "      <td>1</td>\n",
       "      <td>2</td>\n",
       "      <td>3</td>\n",
       "      <td>0</td>\n",
       "    </tr>\n",
       "    <tr>\n",
       "      <th>301</th>\n",
       "      <td>57</td>\n",
       "      <td>1</td>\n",
       "      <td>0</td>\n",
       "      <td>130</td>\n",
       "      <td>131</td>\n",
       "      <td>0</td>\n",
       "      <td>1</td>\n",
       "      <td>115</td>\n",
       "      <td>1</td>\n",
       "      <td>1.2</td>\n",
       "      <td>1</td>\n",
       "      <td>1</td>\n",
       "      <td>3</td>\n",
       "      <td>0</td>\n",
       "    </tr>\n",
       "    <tr>\n",
       "      <th>302</th>\n",
       "      <td>57</td>\n",
       "      <td>0</td>\n",
       "      <td>1</td>\n",
       "      <td>130</td>\n",
       "      <td>236</td>\n",
       "      <td>0</td>\n",
       "      <td>0</td>\n",
       "      <td>174</td>\n",
       "      <td>0</td>\n",
       "      <td>0.0</td>\n",
       "      <td>1</td>\n",
       "      <td>1</td>\n",
       "      <td>2</td>\n",
       "      <td>0</td>\n",
       "    </tr>\n",
       "  </tbody>\n",
       "</table>\n",
       "<p>303 rows × 14 columns</p>\n",
       "</div>"
      ],
      "text/plain": [
       "     AGE  GENDER  FEATURE_1  FEATURE_2  FEATURE_3  FEATURE_4  FEATURE_5  \\\n",
       "0     63       1          3        145        233          1          0   \n",
       "1     37       1          2        130        250          0          1   \n",
       "2     41       0          1        130        204          0          0   \n",
       "3     56       1          1        120        236          0          1   \n",
       "4     57       0          0        120        354          0          1   \n",
       "..   ...     ...        ...        ...        ...        ...        ...   \n",
       "298   57       0          0        140        241          0          1   \n",
       "299   45       1          3        110        264          0          1   \n",
       "300   68       1          0        144        193          1          1   \n",
       "301   57       1          0        130        131          0          1   \n",
       "302   57       0          1        130        236          0          0   \n",
       "\n",
       "     FEATURE_6  FEATURE_7  FEATURE_8  FEATURE_9  FEATURE_10  FEATURE_11  \\\n",
       "0          150          0        2.3          0           0           1   \n",
       "1          187          0        3.5          0           0           2   \n",
       "2          172          0        1.4          2           0           2   \n",
       "3          178          0        0.8          2           0           2   \n",
       "4          163          1        0.6          2           0           2   \n",
       "..         ...        ...        ...        ...         ...         ...   \n",
       "298        123          1        0.2          1           0           3   \n",
       "299        132          0        1.2          1           0           3   \n",
       "300        141          0        3.4          1           2           3   \n",
       "301        115          1        1.2          1           1           3   \n",
       "302        174          0        0.0          1           1           2   \n",
       "\n",
       "     TARGET  \n",
       "0         1  \n",
       "1         1  \n",
       "2         1  \n",
       "3         1  \n",
       "4         1  \n",
       "..      ...  \n",
       "298       0  \n",
       "299       0  \n",
       "300       0  \n",
       "301       0  \n",
       "302       0  \n",
       "\n",
       "[303 rows x 14 columns]"
      ]
     },
     "execution_count": 2,
     "metadata": {},
     "output_type": "execute_result"
    }
   ],
   "source": [
    "df = pd.read_csv(r'data_classification_for_task.csv')\n",
    "df.info()\n",
    "df"
   ]
  },
  {
   "cell_type": "markdown",
   "id": "quantitative-weather",
   "metadata": {},
   "source": [
    "Пропуски в данных отсутствуют. Проверим на наличие дубликатов"
   ]
  },
  {
   "cell_type": "code",
   "execution_count": 3,
   "id": "bronze-affairs",
   "metadata": {},
   "outputs": [
    {
     "data": {
      "text/plain": [
       "1"
      ]
     },
     "execution_count": 3,
     "metadata": {},
     "output_type": "execute_result"
    }
   ],
   "source": [
    "df.duplicated().sum()"
   ]
  },
  {
   "cell_type": "markdown",
   "id": "scientific-voice",
   "metadata": {},
   "source": [
    "Найден один полный дубликат. Посмотрим на него, чтобы проверить, не случайное ли это совпадение."
   ]
  },
  {
   "cell_type": "code",
   "execution_count": 4,
   "id": "alpine-badge",
   "metadata": {},
   "outputs": [
    {
     "data": {
      "text/html": [
       "<div>\n",
       "<style scoped>\n",
       "    .dataframe tbody tr th:only-of-type {\n",
       "        vertical-align: middle;\n",
       "    }\n",
       "\n",
       "    .dataframe tbody tr th {\n",
       "        vertical-align: top;\n",
       "    }\n",
       "\n",
       "    .dataframe thead th {\n",
       "        text-align: right;\n",
       "    }\n",
       "</style>\n",
       "<table border=\"1\" class=\"dataframe\">\n",
       "  <thead>\n",
       "    <tr style=\"text-align: right;\">\n",
       "      <th></th>\n",
       "      <th>AGE</th>\n",
       "      <th>GENDER</th>\n",
       "      <th>FEATURE_1</th>\n",
       "      <th>FEATURE_2</th>\n",
       "      <th>FEATURE_3</th>\n",
       "      <th>FEATURE_4</th>\n",
       "      <th>FEATURE_5</th>\n",
       "      <th>FEATURE_6</th>\n",
       "      <th>FEATURE_7</th>\n",
       "      <th>FEATURE_8</th>\n",
       "      <th>FEATURE_9</th>\n",
       "      <th>FEATURE_10</th>\n",
       "      <th>FEATURE_11</th>\n",
       "      <th>TARGET</th>\n",
       "    </tr>\n",
       "  </thead>\n",
       "  <tbody>\n",
       "    <tr>\n",
       "      <th>164</th>\n",
       "      <td>38</td>\n",
       "      <td>1</td>\n",
       "      <td>2</td>\n",
       "      <td>138</td>\n",
       "      <td>175</td>\n",
       "      <td>0</td>\n",
       "      <td>1</td>\n",
       "      <td>173</td>\n",
       "      <td>0</td>\n",
       "      <td>0.0</td>\n",
       "      <td>2</td>\n",
       "      <td>4</td>\n",
       "      <td>2</td>\n",
       "      <td>1</td>\n",
       "    </tr>\n",
       "  </tbody>\n",
       "</table>\n",
       "</div>"
      ],
      "text/plain": [
       "     AGE  GENDER  FEATURE_1  FEATURE_2  FEATURE_3  FEATURE_4  FEATURE_5  \\\n",
       "164   38       1          2        138        175          0          1   \n",
       "\n",
       "     FEATURE_6  FEATURE_7  FEATURE_8  FEATURE_9  FEATURE_10  FEATURE_11  \\\n",
       "164        173          0        0.0          2           4           2   \n",
       "\n",
       "     TARGET  \n",
       "164       1  "
      ]
     },
     "execution_count": 4,
     "metadata": {},
     "output_type": "execute_result"
    }
   ],
   "source": [
    "df[df.duplicated()]"
   ]
  },
  {
   "cell_type": "markdown",
   "id": "functional-palestine",
   "metadata": {},
   "source": [
    "Проверим все записи с таким же возрастом"
   ]
  },
  {
   "cell_type": "code",
   "execution_count": 5,
   "id": "dutch-anger",
   "metadata": {},
   "outputs": [
    {
     "data": {
      "text/html": [
       "<div>\n",
       "<style scoped>\n",
       "    .dataframe tbody tr th:only-of-type {\n",
       "        vertical-align: middle;\n",
       "    }\n",
       "\n",
       "    .dataframe tbody tr th {\n",
       "        vertical-align: top;\n",
       "    }\n",
       "\n",
       "    .dataframe thead th {\n",
       "        text-align: right;\n",
       "    }\n",
       "</style>\n",
       "<table border=\"1\" class=\"dataframe\">\n",
       "  <thead>\n",
       "    <tr style=\"text-align: right;\">\n",
       "      <th></th>\n",
       "      <th>AGE</th>\n",
       "      <th>GENDER</th>\n",
       "      <th>FEATURE_1</th>\n",
       "      <th>FEATURE_2</th>\n",
       "      <th>FEATURE_3</th>\n",
       "      <th>FEATURE_4</th>\n",
       "      <th>FEATURE_5</th>\n",
       "      <th>FEATURE_6</th>\n",
       "      <th>FEATURE_7</th>\n",
       "      <th>FEATURE_8</th>\n",
       "      <th>FEATURE_9</th>\n",
       "      <th>FEATURE_10</th>\n",
       "      <th>FEATURE_11</th>\n",
       "      <th>TARGET</th>\n",
       "    </tr>\n",
       "  </thead>\n",
       "  <tbody>\n",
       "    <tr>\n",
       "      <th>163</th>\n",
       "      <td>38</td>\n",
       "      <td>1</td>\n",
       "      <td>2</td>\n",
       "      <td>138</td>\n",
       "      <td>175</td>\n",
       "      <td>0</td>\n",
       "      <td>1</td>\n",
       "      <td>173</td>\n",
       "      <td>0</td>\n",
       "      <td>0.0</td>\n",
       "      <td>2</td>\n",
       "      <td>4</td>\n",
       "      <td>2</td>\n",
       "      <td>1</td>\n",
       "    </tr>\n",
       "    <tr>\n",
       "      <th>164</th>\n",
       "      <td>38</td>\n",
       "      <td>1</td>\n",
       "      <td>2</td>\n",
       "      <td>138</td>\n",
       "      <td>175</td>\n",
       "      <td>0</td>\n",
       "      <td>1</td>\n",
       "      <td>173</td>\n",
       "      <td>0</td>\n",
       "      <td>0.0</td>\n",
       "      <td>2</td>\n",
       "      <td>4</td>\n",
       "      <td>2</td>\n",
       "      <td>1</td>\n",
       "    </tr>\n",
       "    <tr>\n",
       "      <th>259</th>\n",
       "      <td>38</td>\n",
       "      <td>1</td>\n",
       "      <td>3</td>\n",
       "      <td>120</td>\n",
       "      <td>231</td>\n",
       "      <td>0</td>\n",
       "      <td>1</td>\n",
       "      <td>182</td>\n",
       "      <td>1</td>\n",
       "      <td>3.8</td>\n",
       "      <td>1</td>\n",
       "      <td>0</td>\n",
       "      <td>3</td>\n",
       "      <td>0</td>\n",
       "    </tr>\n",
       "  </tbody>\n",
       "</table>\n",
       "</div>"
      ],
      "text/plain": [
       "     AGE  GENDER  FEATURE_1  FEATURE_2  FEATURE_3  FEATURE_4  FEATURE_5  \\\n",
       "163   38       1          2        138        175          0          1   \n",
       "164   38       1          2        138        175          0          1   \n",
       "259   38       1          3        120        231          0          1   \n",
       "\n",
       "     FEATURE_6  FEATURE_7  FEATURE_8  FEATURE_9  FEATURE_10  FEATURE_11  \\\n",
       "163        173          0        0.0          2           4           2   \n",
       "164        173          0        0.0          2           4           2   \n",
       "259        182          1        3.8          1           0           3   \n",
       "\n",
       "     TARGET  \n",
       "163       1  \n",
       "164       1  \n",
       "259       0  "
      ]
     },
     "execution_count": 5,
     "metadata": {},
     "output_type": "execute_result"
    }
   ],
   "source": [
    "df[df['AGE']==38]"
   ]
  },
  {
   "cell_type": "markdown",
   "id": "impossible-journey",
   "metadata": {},
   "source": [
    "Видим две одинаковых строки подряд. Вероятность того, что это два разных объекта с полным совпадением признаков, ничтожно мала. Скорее всего одни и те же данные по ошибке записали два раза. Удалим дубликат."
   ]
  },
  {
   "cell_type": "code",
   "execution_count": 6,
   "id": "stretch-concept",
   "metadata": {},
   "outputs": [],
   "source": [
    "df.drop_duplicates(inplace=True)"
   ]
  },
  {
   "cell_type": "markdown",
   "id": "hybrid-envelope",
   "metadata": {},
   "source": [
    "#### Анализ данных"
   ]
  },
  {
   "cell_type": "code",
   "execution_count": 7,
   "id": "graphic-turner",
   "metadata": {},
   "outputs": [
    {
     "data": {
      "text/plain": [
       "1    164\n",
       "0    138\n",
       "Name: TARGET, dtype: int64"
      ]
     },
     "execution_count": 7,
     "metadata": {},
     "output_type": "execute_result"
    }
   ],
   "source": [
    "df['TARGET'].value_counts()"
   ]
  },
  {
   "cell_type": "markdown",
   "id": "caring-penetration",
   "metadata": {},
   "source": [
    "Дисбаланса целевого признака почти нет. Не вижу смысла в такой ситуации делать upsampling, downsampling. Балансировку классов все же можно будет попробовать"
   ]
  },
  {
   "cell_type": "markdown",
   "id": "north-night",
   "metadata": {},
   "source": [
    "Проверим корреляцию между признаками"
   ]
  },
  {
   "cell_type": "code",
   "execution_count": 8,
   "id": "constant-whole",
   "metadata": {},
   "outputs": [
    {
     "data": {
      "text/plain": [
       "AGE           0.395235\n",
       "GENDER        0.283609\n",
       "FEATURE_1     0.432080\n",
       "FEATURE_2     0.283121\n",
       "FEATURE_3     0.207216\n",
       "FEATURE_4     0.178125\n",
       "FEATURE_5     0.147602\n",
       "FEATURE_6     0.419955\n",
       "FEATURE_7     0.435601\n",
       "FEATURE_8     0.576314\n",
       "FEATURE_9     0.576314\n",
       "FEATURE_10    0.408992\n",
       "FEATURE_11    0.343101\n",
       "TARGET        0.435601\n",
       "dtype: float64"
      ]
     },
     "execution_count": 8,
     "metadata": {},
     "output_type": "execute_result"
    }
   ],
   "source": [
    "corr = abs(df.corr())\n",
    "corr[corr<1].max()"
   ]
  },
  {
   "cell_type": "markdown",
   "id": "empty-sequence",
   "metadata": {},
   "source": [
    "Взаимная корреляция между признаками не слишком сильная. 57% между FEATURE_8 и FEATURE_9 - многовато, но пока оставим."
   ]
  },
  {
   "cell_type": "markdown",
   "id": "nervous-eight",
   "metadata": {
    "scrolled": true
   },
   "source": [
    "Сделаем таблицу с данными по признакам: корреляция с целевым признаком и кол-во уникальных значений"
   ]
  },
  {
   "cell_type": "code",
   "execution_count": 9,
   "id": "durable-communist",
   "metadata": {},
   "outputs": [
    {
     "data": {
      "text/html": [
       "<div>\n",
       "<style scoped>\n",
       "    .dataframe tbody tr th:only-of-type {\n",
       "        vertical-align: middle;\n",
       "    }\n",
       "\n",
       "    .dataframe tbody tr th {\n",
       "        vertical-align: top;\n",
       "    }\n",
       "\n",
       "    .dataframe thead th {\n",
       "        text-align: right;\n",
       "    }\n",
       "</style>\n",
       "<table border=\"1\" class=\"dataframe\">\n",
       "  <thead>\n",
       "    <tr style=\"text-align: right;\">\n",
       "      <th></th>\n",
       "      <th>TARGET</th>\n",
       "      <th>nunique</th>\n",
       "    </tr>\n",
       "  </thead>\n",
       "  <tbody>\n",
       "    <tr>\n",
       "      <th>FEATURE_7</th>\n",
       "      <td>0.435601</td>\n",
       "      <td>2</td>\n",
       "    </tr>\n",
       "    <tr>\n",
       "      <th>FEATURE_1</th>\n",
       "      <td>0.432080</td>\n",
       "      <td>4</td>\n",
       "    </tr>\n",
       "    <tr>\n",
       "      <th>FEATURE_8</th>\n",
       "      <td>0.429146</td>\n",
       "      <td>40</td>\n",
       "    </tr>\n",
       "    <tr>\n",
       "      <th>FEATURE_6</th>\n",
       "      <td>0.419955</td>\n",
       "      <td>91</td>\n",
       "    </tr>\n",
       "    <tr>\n",
       "      <th>FEATURE_10</th>\n",
       "      <td>0.408992</td>\n",
       "      <td>5</td>\n",
       "    </tr>\n",
       "    <tr>\n",
       "      <th>FEATURE_9</th>\n",
       "      <td>0.343940</td>\n",
       "      <td>3</td>\n",
       "    </tr>\n",
       "    <tr>\n",
       "      <th>FEATURE_11</th>\n",
       "      <td>0.343101</td>\n",
       "      <td>4</td>\n",
       "    </tr>\n",
       "    <tr>\n",
       "      <th>GENDER</th>\n",
       "      <td>0.283609</td>\n",
       "      <td>2</td>\n",
       "    </tr>\n",
       "    <tr>\n",
       "      <th>AGE</th>\n",
       "      <td>0.221476</td>\n",
       "      <td>41</td>\n",
       "    </tr>\n",
       "    <tr>\n",
       "      <th>FEATURE_2</th>\n",
       "      <td>0.146269</td>\n",
       "      <td>49</td>\n",
       "    </tr>\n",
       "    <tr>\n",
       "      <th>FEATURE_5</th>\n",
       "      <td>0.134874</td>\n",
       "      <td>3</td>\n",
       "    </tr>\n",
       "    <tr>\n",
       "      <th>FEATURE_3</th>\n",
       "      <td>0.081437</td>\n",
       "      <td>152</td>\n",
       "    </tr>\n",
       "    <tr>\n",
       "      <th>FEATURE_4</th>\n",
       "      <td>0.026826</td>\n",
       "      <td>2</td>\n",
       "    </tr>\n",
       "  </tbody>\n",
       "</table>\n",
       "</div>"
      ],
      "text/plain": [
       "              TARGET  nunique\n",
       "FEATURE_7   0.435601        2\n",
       "FEATURE_1   0.432080        4\n",
       "FEATURE_8   0.429146       40\n",
       "FEATURE_6   0.419955       91\n",
       "FEATURE_10  0.408992        5\n",
       "FEATURE_9   0.343940        3\n",
       "FEATURE_11  0.343101        4\n",
       "GENDER      0.283609        2\n",
       "AGE         0.221476       41\n",
       "FEATURE_2   0.146269       49\n",
       "FEATURE_5   0.134874        3\n",
       "FEATURE_3   0.081437      152\n",
       "FEATURE_4   0.026826        2"
      ]
     },
     "execution_count": 9,
     "metadata": {},
     "output_type": "execute_result"
    }
   ],
   "source": [
    "feature_table = pd.DataFrame((corr['TARGET']).drop('TARGET').sort_values(ascending=False))\n",
    "feature_table['nunique'] = df.drop(['TARGET'], axis=1).nunique()\n",
    "feature_table"
   ]
  },
  {
   "cell_type": "markdown",
   "id": "accepted-violence",
   "metadata": {},
   "source": [
    "Неплохая корреляция признаков с целевым признаком. Линейные модели могут показать хороший результат.  \n",
    "Обычно можно предположить, что признаки с небольшим количеством уникальных значений (например, 10 и меньше) являются категориальными, подвергнутыми ранее порядковому кодированию. Тем не менее, признаки FEATURE_7, FEATURE_1, FEATURE_10 показывают довольно высокую корреляцию с целевым признаком, поэтому их лучше оставить в таком виде. Разделим все признаки на бинарные, категориальные и количественные. В категориальные запишем признаки с тремя уникальными значениями."
   ]
  },
  {
   "cell_type": "code",
   "execution_count": 10,
   "id": "delayed-miniature",
   "metadata": {},
   "outputs": [
    {
     "data": {
      "text/plain": [
       "(['FEATURE_7', 'GENDER', 'FEATURE_4'],\n",
       " ['FEATURE_9', 'FEATURE_5'],\n",
       " ['FEATURE_1',\n",
       "  'FEATURE_8',\n",
       "  'FEATURE_6',\n",
       "  'FEATURE_10',\n",
       "  'FEATURE_11',\n",
       "  'AGE',\n",
       "  'FEATURE_2',\n",
       "  'FEATURE_3'])"
      ]
     },
     "execution_count": 10,
     "metadata": {},
     "output_type": "execute_result"
    }
   ],
   "source": [
    "limit = 3\n",
    "bin_cols = list(feature_table[feature_table['nunique'] == 2].index)\n",
    "cat_cols = list(feature_table[(feature_table['nunique'] > 2) & (feature_table['nunique'] <= limit)].index)\n",
    "num_cols = list(feature_table[feature_table['nunique'] > limit].index)\n",
    "bin_cols, cat_cols, num_cols"
   ]
  },
  {
   "cell_type": "markdown",
   "id": "pharmaceutical-shark",
   "metadata": {},
   "source": [
    "Посмотрим на распределения для количественных признаков"
   ]
  },
  {
   "cell_type": "code",
   "execution_count": 11,
   "id": "entitled-storm",
   "metadata": {
    "scrolled": false
   },
   "outputs": [
    {
     "data": {
      "image/png": "[encoded data removed]",
      "text/plain": [
       "<Figure size 1152x288 with 1 Axes>"
      ]
     },
     "metadata": {
      "needs_background": "light"
     },
     "output_type": "display_data"
    },
    {
     "data": {
      "image/png": "[encoded data removed]",
      "text/plain": [
       "<Figure size 1152x288 with 1 Axes>"
      ]
     },
     "metadata": {
      "needs_background": "light"
     },
     "output_type": "display_data"
    },
    {
     "data": {
      "image/png": "[encoded data removed]",
      "text/plain": [
       "<Figure size 1152x288 with 1 Axes>"
      ]
     },
     "metadata": {
      "needs_background": "light"
     },
     "output_type": "display_data"
    },
    {
     "data": {
      "image/png": "[encoded data removed]",
      "text/plain": [
       "<Figure size 1152x288 with 1 Axes>"
      ]
     },
     "metadata": {
      "needs_background": "light"
     },
     "output_type": "display_data"
    },
    {
     "data": {
      "image/png": "[encoded data removed]",
      "text/plain": [
       "<Figure size 1152x288 with 1 Axes>"
      ]
     },
     "metadata": {
      "needs_background": "light"
     },
     "output_type": "display_data"
    },
    {
     "data": {
      "image/png": "[encoded data removed]",
      "text/plain": [
       "<Figure size 1152x288 with 1 Axes>"
      ]
     },
     "metadata": {
      "needs_background": "light"
     },
     "output_type": "display_data"
    },
    {
     "data": {
      "image/png": "[encoded data removed]",
      "text/plain": [
       "<Figure size 1152x288 with 1 Axes>"
      ]
     },
     "metadata": {
      "needs_background": "light"
     },
     "output_type": "display_data"
    },
    {
     "data": {
      "image/png": "[encoded data removed]",
      "text/plain": [
       "<Figure size 1152x288 with 1 Axes>"
      ]
     },
     "metadata": {
      "needs_background": "light"
     },
     "output_type": "display_data"
    }
   ],
   "source": [
    "for col in num_cols:\n",
    "    df[col].hist(bins=20)\n",
    "    plt.title(col)\n",
    "    plt.show()"
   ]
  },
  {
   "cell_type": "markdown",
   "id": "binding-settlement",
   "metadata": {},
   "source": [
    "Явных выбросов и аномалий на гистограммах не видно, хотя В FEATURE_3 и FEATURE_8 есть немного значений, лежащих в стороне от основного распределения. Не зная смысла признаков, объявлять эти значения выбросами и удалять/заменять их не рискну. FEATURE_8 и FEATURE_10 сильно скошены.  \n",
    "Теперь посмотрим распределения для категориальных признаков"
   ]
  },
  {
   "cell_type": "code",
   "execution_count": 12,
   "id": "convertible-warrior",
   "metadata": {},
   "outputs": [
    {
     "name": "stdout",
     "output_type": "stream",
     "text": [
      "0    203\n",
      "1     99\n",
      "Name: FEATURE_7, dtype: int64\n",
      "\n",
      "1    206\n",
      "0     96\n",
      "Name: GENDER, dtype: int64\n",
      "\n",
      "0    257\n",
      "1     45\n",
      "Name: FEATURE_4, dtype: int64\n",
      "\n",
      "2    141\n",
      "1    140\n",
      "0     21\n",
      "Name: FEATURE_9, dtype: int64\n",
      "\n",
      "1    151\n",
      "0    147\n",
      "2      4\n",
      "Name: FEATURE_5, dtype: int64\n",
      "\n"
     ]
    }
   ],
   "source": [
    "for col in bin_cols:\n",
    "    print(df[col].value_counts())\n",
    "    print()\n",
    "    \n",
    "for col in cat_cols:\n",
    "    print(df[col].value_counts())\n",
    "    print()"
   ]
  },
  {
   "cell_type": "markdown",
   "id": "together-taylor",
   "metadata": {},
   "source": [
    "### Подготовка выборок\n",
    "Разделим датасет на фичи и таргет"
   ]
  },
  {
   "cell_type": "code",
   "execution_count": 13,
   "id": "impressive-excuse",
   "metadata": {},
   "outputs": [],
   "source": [
    "X = df.drop(['TARGET'], axis=1)\n",
    "y = df['TARGET']"
   ]
  },
  {
   "cell_type": "markdown",
   "id": "collected-glass",
   "metadata": {},
   "source": [
    "Чтобы использовать линейные модели, сделаем one-hot кодирование для признаков, которые назначили категориальными"
   ]
  },
  {
   "cell_type": "code",
   "execution_count": 14,
   "id": "exceptional-answer",
   "metadata": {},
   "outputs": [
    {
     "data": {
      "text/html": [
       "<div>\n",
       "<style scoped>\n",
       "    .dataframe tbody tr th:only-of-type {\n",
       "        vertical-align: middle;\n",
       "    }\n",
       "\n",
       "    .dataframe tbody tr th {\n",
       "        vertical-align: top;\n",
       "    }\n",
       "\n",
       "    .dataframe thead th {\n",
       "        text-align: right;\n",
       "    }\n",
       "</style>\n",
       "<table border=\"1\" class=\"dataframe\">\n",
       "  <thead>\n",
       "    <tr style=\"text-align: right;\">\n",
       "      <th></th>\n",
       "      <th>AGE</th>\n",
       "      <th>GENDER</th>\n",
       "      <th>FEATURE_1</th>\n",
       "      <th>FEATURE_2</th>\n",
       "      <th>FEATURE_3</th>\n",
       "      <th>FEATURE_4</th>\n",
       "      <th>FEATURE_6</th>\n",
       "      <th>FEATURE_7</th>\n",
       "      <th>FEATURE_8</th>\n",
       "      <th>FEATURE_10</th>\n",
       "      <th>FEATURE_11</th>\n",
       "      <th>FEATURE_9_1</th>\n",
       "      <th>FEATURE_9_2</th>\n",
       "      <th>FEATURE_5_1</th>\n",
       "      <th>FEATURE_5_2</th>\n",
       "    </tr>\n",
       "  </thead>\n",
       "  <tbody>\n",
       "    <tr>\n",
       "      <th>0</th>\n",
       "      <td>63</td>\n",
       "      <td>1</td>\n",
       "      <td>3</td>\n",
       "      <td>145</td>\n",
       "      <td>233</td>\n",
       "      <td>1</td>\n",
       "      <td>150</td>\n",
       "      <td>0</td>\n",
       "      <td>2.3</td>\n",
       "      <td>0</td>\n",
       "      <td>1</td>\n",
       "      <td>0</td>\n",
       "      <td>0</td>\n",
       "      <td>0</td>\n",
       "      <td>0</td>\n",
       "    </tr>\n",
       "    <tr>\n",
       "      <th>1</th>\n",
       "      <td>37</td>\n",
       "      <td>1</td>\n",
       "      <td>2</td>\n",
       "      <td>130</td>\n",
       "      <td>250</td>\n",
       "      <td>0</td>\n",
       "      <td>187</td>\n",
       "      <td>0</td>\n",
       "      <td>3.5</td>\n",
       "      <td>0</td>\n",
       "      <td>2</td>\n",
       "      <td>0</td>\n",
       "      <td>0</td>\n",
       "      <td>1</td>\n",
       "      <td>0</td>\n",
       "    </tr>\n",
       "    <tr>\n",
       "      <th>2</th>\n",
       "      <td>41</td>\n",
       "      <td>0</td>\n",
       "      <td>1</td>\n",
       "      <td>130</td>\n",
       "      <td>204</td>\n",
       "      <td>0</td>\n",
       "      <td>172</td>\n",
       "      <td>0</td>\n",
       "      <td>1.4</td>\n",
       "      <td>0</td>\n",
       "      <td>2</td>\n",
       "      <td>0</td>\n",
       "      <td>1</td>\n",
       "      <td>0</td>\n",
       "      <td>0</td>\n",
       "    </tr>\n",
       "    <tr>\n",
       "      <th>3</th>\n",
       "      <td>56</td>\n",
       "      <td>1</td>\n",
       "      <td>1</td>\n",
       "      <td>120</td>\n",
       "      <td>236</td>\n",
       "      <td>0</td>\n",
       "      <td>178</td>\n",
       "      <td>0</td>\n",
       "      <td>0.8</td>\n",
       "      <td>0</td>\n",
       "      <td>2</td>\n",
       "      <td>0</td>\n",
       "      <td>1</td>\n",
       "      <td>1</td>\n",
       "      <td>0</td>\n",
       "    </tr>\n",
       "    <tr>\n",
       "      <th>4</th>\n",
       "      <td>57</td>\n",
       "      <td>0</td>\n",
       "      <td>0</td>\n",
       "      <td>120</td>\n",
       "      <td>354</td>\n",
       "      <td>0</td>\n",
       "      <td>163</td>\n",
       "      <td>1</td>\n",
       "      <td>0.6</td>\n",
       "      <td>0</td>\n",
       "      <td>2</td>\n",
       "      <td>0</td>\n",
       "      <td>1</td>\n",
       "      <td>1</td>\n",
       "      <td>0</td>\n",
       "    </tr>\n",
       "    <tr>\n",
       "      <th>...</th>\n",
       "      <td>...</td>\n",
       "      <td>...</td>\n",
       "      <td>...</td>\n",
       "      <td>...</td>\n",
       "      <td>...</td>\n",
       "      <td>...</td>\n",
       "      <td>...</td>\n",
       "      <td>...</td>\n",
       "      <td>...</td>\n",
       "      <td>...</td>\n",
       "      <td>...</td>\n",
       "      <td>...</td>\n",
       "      <td>...</td>\n",
       "      <td>...</td>\n",
       "      <td>...</td>\n",
       "    </tr>\n",
       "    <tr>\n",
       "      <th>298</th>\n",
       "      <td>57</td>\n",
       "      <td>0</td>\n",
       "      <td>0</td>\n",
       "      <td>140</td>\n",
       "      <td>241</td>\n",
       "      <td>0</td>\n",
       "      <td>123</td>\n",
       "      <td>1</td>\n",
       "      <td>0.2</td>\n",
       "      <td>0</td>\n",
       "      <td>3</td>\n",
       "      <td>1</td>\n",
       "      <td>0</td>\n",
       "      <td>1</td>\n",
       "      <td>0</td>\n",
       "    </tr>\n",
       "    <tr>\n",
       "      <th>299</th>\n",
       "      <td>45</td>\n",
       "      <td>1</td>\n",
       "      <td>3</td>\n",
       "      <td>110</td>\n",
       "      <td>264</td>\n",
       "      <td>0</td>\n",
       "      <td>132</td>\n",
       "      <td>0</td>\n",
       "      <td>1.2</td>\n",
       "      <td>0</td>\n",
       "      <td>3</td>\n",
       "      <td>1</td>\n",
       "      <td>0</td>\n",
       "      <td>1</td>\n",
       "      <td>0</td>\n",
       "    </tr>\n",
       "    <tr>\n",
       "      <th>300</th>\n",
       "      <td>68</td>\n",
       "      <td>1</td>\n",
       "      <td>0</td>\n",
       "      <td>144</td>\n",
       "      <td>193</td>\n",
       "      <td>1</td>\n",
       "      <td>141</td>\n",
       "      <td>0</td>\n",
       "      <td>3.4</td>\n",
       "      <td>2</td>\n",
       "      <td>3</td>\n",
       "      <td>1</td>\n",
       "      <td>0</td>\n",
       "      <td>1</td>\n",
       "      <td>0</td>\n",
       "    </tr>\n",
       "    <tr>\n",
       "      <th>301</th>\n",
       "      <td>57</td>\n",
       "      <td>1</td>\n",
       "      <td>0</td>\n",
       "      <td>130</td>\n",
       "      <td>131</td>\n",
       "      <td>0</td>\n",
       "      <td>115</td>\n",
       "      <td>1</td>\n",
       "      <td>1.2</td>\n",
       "      <td>1</td>\n",
       "      <td>3</td>\n",
       "      <td>1</td>\n",
       "      <td>0</td>\n",
       "      <td>1</td>\n",
       "      <td>0</td>\n",
       "    </tr>\n",
       "    <tr>\n",
       "      <th>302</th>\n",
       "      <td>57</td>\n",
       "      <td>0</td>\n",
       "      <td>1</td>\n",
       "      <td>130</td>\n",
       "      <td>236</td>\n",
       "      <td>0</td>\n",
       "      <td>174</td>\n",
       "      <td>0</td>\n",
       "      <td>0.0</td>\n",
       "      <td>1</td>\n",
       "      <td>2</td>\n",
       "      <td>1</td>\n",
       "      <td>0</td>\n",
       "      <td>0</td>\n",
       "      <td>0</td>\n",
       "    </tr>\n",
       "  </tbody>\n",
       "</table>\n",
       "<p>302 rows × 15 columns</p>\n",
       "</div>"
      ],
      "text/plain": [
       "     AGE  GENDER  FEATURE_1  FEATURE_2  FEATURE_3  FEATURE_4  FEATURE_6  \\\n",
       "0     63       1          3        145        233          1        150   \n",
       "1     37       1          2        130        250          0        187   \n",
       "2     41       0          1        130        204          0        172   \n",
       "3     56       1          1        120        236          0        178   \n",
       "4     57       0          0        120        354          0        163   \n",
       "..   ...     ...        ...        ...        ...        ...        ...   \n",
       "298   57       0          0        140        241          0        123   \n",
       "299   45       1          3        110        264          0        132   \n",
       "300   68       1          0        144        193          1        141   \n",
       "301   57       1          0        130        131          0        115   \n",
       "302   57       0          1        130        236          0        174   \n",
       "\n",
       "     FEATURE_7  FEATURE_8  FEATURE_10  FEATURE_11  FEATURE_9_1  FEATURE_9_2  \\\n",
       "0            0        2.3           0           1            0            0   \n",
       "1            0        3.5           0           2            0            0   \n",
       "2            0        1.4           0           2            0            1   \n",
       "3            0        0.8           0           2            0            1   \n",
       "4            1        0.6           0           2            0            1   \n",
       "..         ...        ...         ...         ...          ...          ...   \n",
       "298          1        0.2           0           3            1            0   \n",
       "299          0        1.2           0           3            1            0   \n",
       "300          0        3.4           2           3            1            0   \n",
       "301          1        1.2           1           3            1            0   \n",
       "302          0        0.0           1           2            1            0   \n",
       "\n",
       "     FEATURE_5_1  FEATURE_5_2  \n",
       "0              0            0  \n",
       "1              1            0  \n",
       "2              0            0  \n",
       "3              1            0  \n",
       "4              1            0  \n",
       "..           ...          ...  \n",
       "298            1            0  \n",
       "299            1            0  \n",
       "300            1            0  \n",
       "301            1            0  \n",
       "302            0            0  \n",
       "\n",
       "[302 rows x 15 columns]"
      ]
     },
     "execution_count": 14,
     "metadata": {},
     "output_type": "execute_result"
    }
   ],
   "source": [
    "X_ohe = pd.get_dummies(X, columns=cat_cols, drop_first=True)\n",
    "X_ohe"
   ]
  },
  {
   "cell_type": "markdown",
   "id": "crude-disco",
   "metadata": {},
   "source": [
    "Разделим данные на обучающую и тестовую выборки. Тестовая - 20% от всех данных."
   ]
  },
  {
   "cell_type": "code",
   "execution_count": 15,
   "id": "suffering-collaboration",
   "metadata": {},
   "outputs": [
    {
     "name": "stdout",
     "output_type": "stream",
     "text": [
      "Train: (241, 13) (241,)\n",
      "Test:  (61, 13) (61,)\n"
     ]
    }
   ],
   "source": [
    "X_train, X_test, y_train, y_test = train_test_split(X, y, test_size=0.2, random_state=42)\n",
    "print('Train:', X_train.shape, y_train.shape)\n",
    "print('Test: ', X_test.shape, y_test.shape)"
   ]
  },
  {
   "cell_type": "code",
   "execution_count": 16,
   "id": "unknown-halloween",
   "metadata": {},
   "outputs": [
    {
     "name": "stdout",
     "output_type": "stream",
     "text": [
      "Train: (241, 15) (241,)\n",
      "Test:  (61, 15) (61,)\n"
     ]
    }
   ],
   "source": [
    "X_train_ohe, X_test_ohe = train_test_split(X_ohe, test_size=0.2, random_state=42)\n",
    "print('Train:', X_train_ohe.shape, y_train.shape)\n",
    "print('Test: ', X_test_ohe.shape, y_test.shape)"
   ]
  },
  {
   "cell_type": "markdown",
   "id": "afraid-outreach",
   "metadata": {},
   "source": [
    "Масштабирование признаков для линейных моделей"
   ]
  },
  {
   "cell_type": "code",
   "execution_count": 17,
   "id": "italic-draft",
   "metadata": {},
   "outputs": [
    {
     "name": "stderr",
     "output_type": "stream",
     "text": [
      "<ipython-input-17-440bd8970e46>:2: SettingWithCopyWarning: \n",
      "A value is trying to be set on a copy of a slice from a DataFrame.\n",
      "Try using .loc[row_indexer,col_indexer] = value instead\n",
      "\n",
      "See the caveats in the documentation: https://pandas.pydata.org/pandas-docs/stable/user_guide/indexing.html#returning-a-view-versus-a-copy\n",
      "  X_train_ohe[num_cols] = scaler.fit_transform(X_train_ohe[num_cols])\n",
      "C:\\Users\\albri\\.conda\\envs\\python38\\lib\\site-packages\\pandas\\core\\indexing.py:1738: SettingWithCopyWarning: \n",
      "A value is trying to be set on a copy of a slice from a DataFrame.\n",
      "Try using .loc[row_indexer,col_indexer] = value instead\n",
      "\n",
      "See the caveats in the documentation: https://pandas.pydata.org/pandas-docs/stable/user_guide/indexing.html#returning-a-view-versus-a-copy\n",
      "  self._setitem_single_column(loc, value[:, i].tolist(), pi)\n",
      "<ipython-input-17-440bd8970e46>:3: SettingWithCopyWarning: \n",
      "A value is trying to be set on a copy of a slice from a DataFrame.\n",
      "Try using .loc[row_indexer,col_indexer] = value instead\n",
      "\n",
      "See the caveats in the documentation: https://pandas.pydata.org/pandas-docs/stable/user_guide/indexing.html#returning-a-view-versus-a-copy\n",
      "  X_test_ohe[num_cols] = scaler.transform(X_test_ohe[num_cols])\n",
      "C:\\Users\\albri\\.conda\\envs\\python38\\lib\\site-packages\\pandas\\core\\indexing.py:1738: SettingWithCopyWarning: \n",
      "A value is trying to be set on a copy of a slice from a DataFrame.\n",
      "Try using .loc[row_indexer,col_indexer] = value instead\n",
      "\n",
      "See the caveats in the documentation: https://pandas.pydata.org/pandas-docs/stable/user_guide/indexing.html#returning-a-view-versus-a-copy\n",
      "  self._setitem_single_column(loc, value[:, i].tolist(), pi)\n"
     ]
    },
    {
     "data": {
      "text/html": [
       "<div>\n",
       "<style scoped>\n",
       "    .dataframe tbody tr th:only-of-type {\n",
       "        vertical-align: middle;\n",
       "    }\n",
       "\n",
       "    .dataframe tbody tr th {\n",
       "        vertical-align: top;\n",
       "    }\n",
       "\n",
       "    .dataframe thead th {\n",
       "        text-align: right;\n",
       "    }\n",
       "</style>\n",
       "<table border=\"1\" class=\"dataframe\">\n",
       "  <thead>\n",
       "    <tr style=\"text-align: right;\">\n",
       "      <th></th>\n",
       "      <th>AGE</th>\n",
       "      <th>GENDER</th>\n",
       "      <th>FEATURE_1</th>\n",
       "      <th>FEATURE_2</th>\n",
       "      <th>FEATURE_3</th>\n",
       "      <th>FEATURE_4</th>\n",
       "      <th>FEATURE_6</th>\n",
       "      <th>FEATURE_7</th>\n",
       "      <th>FEATURE_8</th>\n",
       "      <th>FEATURE_10</th>\n",
       "      <th>FEATURE_11</th>\n",
       "      <th>FEATURE_9_1</th>\n",
       "      <th>FEATURE_9_2</th>\n",
       "      <th>FEATURE_5_1</th>\n",
       "      <th>FEATURE_5_2</th>\n",
       "    </tr>\n",
       "  </thead>\n",
       "  <tbody>\n",
       "    <tr>\n",
       "      <th>132</th>\n",
       "      <td>-1.350641</td>\n",
       "      <td>1</td>\n",
       "      <td>0.000000</td>\n",
       "      <td>-0.630711</td>\n",
       "      <td>0.927138</td>\n",
       "      <td>0</td>\n",
       "      <td>0.549139</td>\n",
       "      <td>0</td>\n",
       "      <td>-0.895837</td>\n",
       "      <td>-0.683490</td>\n",
       "      <td>-0.545762</td>\n",
       "      <td>0</td>\n",
       "      <td>1</td>\n",
       "      <td>1</td>\n",
       "      <td>0</td>\n",
       "    </tr>\n",
       "    <tr>\n",
       "      <th>203</th>\n",
       "      <td>1.487426</td>\n",
       "      <td>1</td>\n",
       "      <td>0.966493</td>\n",
       "      <td>2.753363</td>\n",
       "      <td>0.526980</td>\n",
       "      <td>1</td>\n",
       "      <td>0.012071</td>\n",
       "      <td>1</td>\n",
       "      <td>0.543474</td>\n",
       "      <td>-0.683490</td>\n",
       "      <td>1.140502</td>\n",
       "      <td>1</td>\n",
       "      <td>0</td>\n",
       "      <td>0</td>\n",
       "      <td>0</td>\n",
       "    </tr>\n",
       "    <tr>\n",
       "      <th>197</th>\n",
       "      <td>1.378270</td>\n",
       "      <td>1</td>\n",
       "      <td>-0.966493</td>\n",
       "      <td>-0.348705</td>\n",
       "      <td>0.145878</td>\n",
       "      <td>1</td>\n",
       "      <td>0.593894</td>\n",
       "      <td>0</td>\n",
       "      <td>-0.715923</td>\n",
       "      <td>1.350103</td>\n",
       "      <td>1.140502</td>\n",
       "      <td>1</td>\n",
       "      <td>0</td>\n",
       "      <td>1</td>\n",
       "      <td>0</td>\n",
       "    </tr>\n",
       "    <tr>\n",
       "      <th>75</th>\n",
       "      <td>0.068393</td>\n",
       "      <td>0</td>\n",
       "      <td>0.000000</td>\n",
       "      <td>0.215308</td>\n",
       "      <td>0.069658</td>\n",
       "      <td>0</td>\n",
       "      <td>0.504383</td>\n",
       "      <td>0</td>\n",
       "      <td>0.363560</td>\n",
       "      <td>-0.683490</td>\n",
       "      <td>-0.545762</td>\n",
       "      <td>1</td>\n",
       "      <td>0</td>\n",
       "      <td>0</td>\n",
       "      <td>0</td>\n",
       "    </tr>\n",
       "    <tr>\n",
       "      <th>177</th>\n",
       "      <td>1.050801</td>\n",
       "      <td>1</td>\n",
       "      <td>0.966493</td>\n",
       "      <td>0.497314</td>\n",
       "      <td>1.689342</td>\n",
       "      <td>0</td>\n",
       "      <td>0.370116</td>\n",
       "      <td>0</td>\n",
       "      <td>-0.895837</td>\n",
       "      <td>-0.683490</td>\n",
       "      <td>-0.545762</td>\n",
       "      <td>0</td>\n",
       "      <td>1</td>\n",
       "      <td>1</td>\n",
       "      <td>0</td>\n",
       "    </tr>\n",
       "    <tr>\n",
       "      <th>...</th>\n",
       "      <td>...</td>\n",
       "      <td>...</td>\n",
       "      <td>...</td>\n",
       "      <td>...</td>\n",
       "      <td>...</td>\n",
       "      <td>...</td>\n",
       "      <td>...</td>\n",
       "      <td>...</td>\n",
       "      <td>...</td>\n",
       "      <td>...</td>\n",
       "      <td>...</td>\n",
       "      <td>...</td>\n",
       "      <td>...</td>\n",
       "      <td>...</td>\n",
       "      <td>...</td>\n",
       "    </tr>\n",
       "    <tr>\n",
       "      <th>189</th>\n",
       "      <td>-1.459797</td>\n",
       "      <td>1</td>\n",
       "      <td>-0.966493</td>\n",
       "      <td>-1.194723</td>\n",
       "      <td>-1.416640</td>\n",
       "      <td>0</td>\n",
       "      <td>0.370116</td>\n",
       "      <td>0</td>\n",
       "      <td>-0.895837</td>\n",
       "      <td>-0.683490</td>\n",
       "      <td>1.140502</td>\n",
       "      <td>0</td>\n",
       "      <td>1</td>\n",
       "      <td>0</td>\n",
       "      <td>0</td>\n",
       "    </tr>\n",
       "    <tr>\n",
       "      <th>71</th>\n",
       "      <td>-0.368233</td>\n",
       "      <td>1</td>\n",
       "      <td>0.966493</td>\n",
       "      <td>-2.097143</td>\n",
       "      <td>-0.368610</td>\n",
       "      <td>0</td>\n",
       "      <td>0.191094</td>\n",
       "      <td>1</td>\n",
       "      <td>-0.895837</td>\n",
       "      <td>0.333307</td>\n",
       "      <td>1.140502</td>\n",
       "      <td>0</td>\n",
       "      <td>1</td>\n",
       "      <td>1</td>\n",
       "      <td>0</td>\n",
       "    </tr>\n",
       "    <tr>\n",
       "      <th>106</th>\n",
       "      <td>1.596583</td>\n",
       "      <td>1</td>\n",
       "      <td>1.932986</td>\n",
       "      <td>1.625339</td>\n",
       "      <td>-0.235224</td>\n",
       "      <td>1</td>\n",
       "      <td>-0.838286</td>\n",
       "      <td>0</td>\n",
       "      <td>-0.805880</td>\n",
       "      <td>0.333307</td>\n",
       "      <td>-0.545762</td>\n",
       "      <td>1</td>\n",
       "      <td>0</td>\n",
       "      <td>0</td>\n",
       "      <td>0</td>\n",
       "    </tr>\n",
       "    <tr>\n",
       "      <th>271</th>\n",
       "      <td>0.723331</td>\n",
       "      <td>1</td>\n",
       "      <td>1.932986</td>\n",
       "      <td>0.158906</td>\n",
       "      <td>-0.235224</td>\n",
       "      <td>0</td>\n",
       "      <td>-0.211707</td>\n",
       "      <td>0</td>\n",
       "      <td>1.443044</td>\n",
       "      <td>1.350103</td>\n",
       "      <td>-0.545762</td>\n",
       "      <td>1</td>\n",
       "      <td>0</td>\n",
       "      <td>1</td>\n",
       "      <td>0</td>\n",
       "    </tr>\n",
       "    <tr>\n",
       "      <th>102</th>\n",
       "      <td>0.941644</td>\n",
       "      <td>0</td>\n",
       "      <td>0.000000</td>\n",
       "      <td>0.497314</td>\n",
       "      <td>-0.978373</td>\n",
       "      <td>0</td>\n",
       "      <td>1.309985</td>\n",
       "      <td>0</td>\n",
       "      <td>-0.895837</td>\n",
       "      <td>1.350103</td>\n",
       "      <td>-0.545762</td>\n",
       "      <td>0</td>\n",
       "      <td>1</td>\n",
       "      <td>1</td>\n",
       "      <td>0</td>\n",
       "    </tr>\n",
       "  </tbody>\n",
       "</table>\n",
       "<p>241 rows × 15 columns</p>\n",
       "</div>"
      ],
      "text/plain": [
       "          AGE  GENDER  FEATURE_1  FEATURE_2  FEATURE_3  FEATURE_4  FEATURE_6  \\\n",
       "132 -1.350641       1   0.000000  -0.630711   0.927138          0   0.549139   \n",
       "203  1.487426       1   0.966493   2.753363   0.526980          1   0.012071   \n",
       "197  1.378270       1  -0.966493  -0.348705   0.145878          1   0.593894   \n",
       "75   0.068393       0   0.000000   0.215308   0.069658          0   0.504383   \n",
       "177  1.050801       1   0.966493   0.497314   1.689342          0   0.370116   \n",
       "..        ...     ...        ...        ...        ...        ...        ...   \n",
       "189 -1.459797       1  -0.966493  -1.194723  -1.416640          0   0.370116   \n",
       "71  -0.368233       1   0.966493  -2.097143  -0.368610          0   0.191094   \n",
       "106  1.596583       1   1.932986   1.625339  -0.235224          1  -0.838286   \n",
       "271  0.723331       1   1.932986   0.158906  -0.235224          0  -0.211707   \n",
       "102  0.941644       0   0.000000   0.497314  -0.978373          0   1.309985   \n",
       "\n",
       "     FEATURE_7  FEATURE_8  FEATURE_10  FEATURE_11  FEATURE_9_1  FEATURE_9_2  \\\n",
       "132          0  -0.895837   -0.683490   -0.545762            0            1   \n",
       "203          1   0.543474   -0.683490    1.140502            1            0   \n",
       "197          0  -0.715923    1.350103    1.140502            1            0   \n",
       "75           0   0.363560   -0.683490   -0.545762            1            0   \n",
       "177          0  -0.895837   -0.683490   -0.545762            0            1   \n",
       "..         ...        ...         ...         ...          ...          ...   \n",
       "189          0  -0.895837   -0.683490    1.140502            0            1   \n",
       "71           1  -0.895837    0.333307    1.140502            0            1   \n",
       "106          0  -0.805880    0.333307   -0.545762            1            0   \n",
       "271          0   1.443044    1.350103   -0.545762            1            0   \n",
       "102          0  -0.895837    1.350103   -0.545762            0            1   \n",
       "\n",
       "     FEATURE_5_1  FEATURE_5_2  \n",
       "132            1            0  \n",
       "203            0            0  \n",
       "197            1            0  \n",
       "75             0            0  \n",
       "177            1            0  \n",
       "..           ...          ...  \n",
       "189            0            0  \n",
       "71             1            0  \n",
       "106            0            0  \n",
       "271            1            0  \n",
       "102            1            0  \n",
       "\n",
       "[241 rows x 15 columns]"
      ]
     },
     "execution_count": 17,
     "metadata": {},
     "output_type": "execute_result"
    }
   ],
   "source": [
    "scaler = StandardScaler()\n",
    "X_train_ohe[num_cols] = scaler.fit_transform(X_train_ohe[num_cols])\n",
    "X_test_ohe[num_cols] = scaler.transform(X_test_ohe[num_cols])\n",
    "X_train_ohe"
   ]
  },
  {
   "cell_type": "markdown",
   "id": "rental-candy",
   "metadata": {},
   "source": [
    "## Подбор моделей"
   ]
  },
  {
   "cell_type": "markdown",
   "id": "devoted-personality",
   "metadata": {},
   "source": [
    "Тут я загружаю библиотеку, которую написал ранее для визуализации подбора гиперпараметров с помощью GridSearchCV  \n",
    "Код есть в моем репозитории на github"
   ]
  },
  {
   "cell_type": "code",
   "execution_count": 18,
   "id": "consolidated-newspaper",
   "metadata": {},
   "outputs": [],
   "source": [
    "import sys  \n",
    "sys.path.insert(0, 'C:\\\\Users\\\\albri\\\\Jupiter Workspace')\n",
    "import albridge_lib as alb"
   ]
  },
  {
   "cell_type": "markdown",
   "id": "identical-architecture",
   "metadata": {},
   "source": [
    "#### Логистическая регрессия  \n",
    "Бинарная классификация, маленький датасет - используем решатель liblinear. Проверим разные варианты регуляризации. Т.к. выборка маленькая, при кросс-валидации будем использовать 10 фолдов, это позволит получить более стабильные результаты."
   ]
  },
  {
   "cell_type": "code",
   "execution_count": 19,
   "id": "occasional-documentation",
   "metadata": {},
   "outputs": [
    {
     "name": "stdout",
     "output_type": "stream",
     "text": [
      "Fitting 10 folds for each of 10 candidates, totalling 100 fits\n"
     ]
    },
    {
     "data": {
      "image/png": "[encoded data removed]",
      "text/plain": [
       "<Figure size 360x144 with 2 Axes>"
      ]
     },
     "metadata": {
      "needs_background": "light"
     },
     "output_type": "display_data"
    },
    {
     "name": "stdout",
     "output_type": "stream",
     "text": [
      "Best valid score: 0.884 (0.051)\n",
      "Best params: {'C': 0.1, 'penalty': 'l2'}\n"
     ]
    },
    {
     "data": {
      "text/html": [
       "<div>\n",
       "<style scoped>\n",
       "    .dataframe tbody tr th:only-of-type {\n",
       "        vertical-align: middle;\n",
       "    }\n",
       "\n",
       "    .dataframe tbody tr th {\n",
       "        vertical-align: top;\n",
       "    }\n",
       "\n",
       "    .dataframe thead th {\n",
       "        text-align: right;\n",
       "    }\n",
       "</style>\n",
       "<table border=\"1\" class=\"dataframe\">\n",
       "  <thead>\n",
       "    <tr style=\"text-align: right;\">\n",
       "      <th></th>\n",
       "      <th>cv score</th>\n",
       "      <th>cv std</th>\n",
       "      <th>time</th>\n",
       "    </tr>\n",
       "  </thead>\n",
       "  <tbody>\n",
       "    <tr>\n",
       "      <th>{'C': 0.001, 'penalty': 'l1'}</th>\n",
       "      <td>0.000</td>\n",
       "      <td>0.000</td>\n",
       "      <td>0.005</td>\n",
       "    </tr>\n",
       "    <tr>\n",
       "      <th>{'C': 0.001, 'penalty': 'l2'}</th>\n",
       "      <td>0.830</td>\n",
       "      <td>0.079</td>\n",
       "      <td>0.005</td>\n",
       "    </tr>\n",
       "    <tr>\n",
       "      <th>{'C': 0.1, 'penalty': 'l1'}</th>\n",
       "      <td>0.840</td>\n",
       "      <td>0.058</td>\n",
       "      <td>0.005</td>\n",
       "    </tr>\n",
       "    <tr>\n",
       "      <th>{'C': 0.1, 'penalty': 'l2'}</th>\n",
       "      <td>0.884</td>\n",
       "      <td>0.051</td>\n",
       "      <td>0.004</td>\n",
       "    </tr>\n",
       "    <tr>\n",
       "      <th>{'C': 1, 'penalty': 'l1'}</th>\n",
       "      <td>0.862</td>\n",
       "      <td>0.047</td>\n",
       "      <td>0.004</td>\n",
       "    </tr>\n",
       "    <tr>\n",
       "      <th>{'C': 1, 'penalty': 'l2'}</th>\n",
       "      <td>0.873</td>\n",
       "      <td>0.044</td>\n",
       "      <td>0.004</td>\n",
       "    </tr>\n",
       "    <tr>\n",
       "      <th>{'C': 10, 'penalty': 'l1'}</th>\n",
       "      <td>0.861</td>\n",
       "      <td>0.047</td>\n",
       "      <td>0.004</td>\n",
       "    </tr>\n",
       "    <tr>\n",
       "      <th>{'C': 10, 'penalty': 'l2'}</th>\n",
       "      <td>0.861</td>\n",
       "      <td>0.047</td>\n",
       "      <td>0.004</td>\n",
       "    </tr>\n",
       "    <tr>\n",
       "      <th>{'C': 100, 'penalty': 'l1'}</th>\n",
       "      <td>0.856</td>\n",
       "      <td>0.053</td>\n",
       "      <td>0.006</td>\n",
       "    </tr>\n",
       "    <tr>\n",
       "      <th>{'C': 100, 'penalty': 'l2'}</th>\n",
       "      <td>0.861</td>\n",
       "      <td>0.047</td>\n",
       "      <td>0.005</td>\n",
       "    </tr>\n",
       "  </tbody>\n",
       "</table>\n",
       "</div>"
      ],
      "text/plain": [
       "                               cv score  cv std   time\n",
       "{'C': 0.001, 'penalty': 'l1'}     0.000   0.000  0.005\n",
       "{'C': 0.001, 'penalty': 'l2'}     0.830   0.079  0.005\n",
       "{'C': 0.1, 'penalty': 'l1'}       0.840   0.058  0.005\n",
       "{'C': 0.1, 'penalty': 'l2'}       0.884   0.051  0.004\n",
       "{'C': 1, 'penalty': 'l1'}         0.862   0.047  0.004\n",
       "{'C': 1, 'penalty': 'l2'}         0.873   0.044  0.004\n",
       "{'C': 10, 'penalty': 'l1'}        0.861   0.047  0.004\n",
       "{'C': 10, 'penalty': 'l2'}        0.861   0.047  0.004\n",
       "{'C': 100, 'penalty': 'l1'}       0.856   0.053  0.006\n",
       "{'C': 100, 'penalty': 'l2'}       0.861   0.047  0.005"
      ]
     },
     "execution_count": 19,
     "metadata": {},
     "output_type": "execute_result"
    }
   ],
   "source": [
    "model = LogisticRegression(random_state=123, solver='liblinear')\n",
    "params = {'C': [0.001,0.1,1,10,100], 'penalty': ['l1','l2']}\n",
    "alb.sklearn_gridCV(model, X_train_ohe, y_train, 'f1', params, cv=10)"
   ]
  },
  {
   "cell_type": "markdown",
   "id": "biblical-poultry",
   "metadata": {},
   "source": [
    "Проверим, дает ли что-нибудь балансировка классов"
   ]
  },
  {
   "cell_type": "code",
   "execution_count": 20,
   "id": "pressing-petite",
   "metadata": {},
   "outputs": [
    {
     "name": "stdout",
     "output_type": "stream",
     "text": [
      "Fitting 10 folds for each of 2 candidates, totalling 20 fits\n",
      "Best valid score: 0.884 (0.051)\n",
      "Best params: {'class_weight': None}\n"
     ]
    },
    {
     "data": {
      "text/html": [
       "<div>\n",
       "<style scoped>\n",
       "    .dataframe tbody tr th:only-of-type {\n",
       "        vertical-align: middle;\n",
       "    }\n",
       "\n",
       "    .dataframe tbody tr th {\n",
       "        vertical-align: top;\n",
       "    }\n",
       "\n",
       "    .dataframe thead th {\n",
       "        text-align: right;\n",
       "    }\n",
       "</style>\n",
       "<table border=\"1\" class=\"dataframe\">\n",
       "  <thead>\n",
       "    <tr style=\"text-align: right;\">\n",
       "      <th></th>\n",
       "      <th>cv score</th>\n",
       "      <th>cv std</th>\n",
       "      <th>time</th>\n",
       "    </tr>\n",
       "  </thead>\n",
       "  <tbody>\n",
       "    <tr>\n",
       "      <th>{'class_weight': None}</th>\n",
       "      <td>0.884</td>\n",
       "      <td>0.051</td>\n",
       "      <td>0.004</td>\n",
       "    </tr>\n",
       "    <tr>\n",
       "      <th>{'class_weight': 'balanced'}</th>\n",
       "      <td>0.861</td>\n",
       "      <td>0.053</td>\n",
       "      <td>0.004</td>\n",
       "    </tr>\n",
       "  </tbody>\n",
       "</table>\n",
       "</div>"
      ],
      "text/plain": [
       "                              cv score  cv std   time\n",
       "{'class_weight': None}           0.884   0.051  0.004\n",
       "{'class_weight': 'balanced'}     0.861   0.053  0.004"
      ]
     },
     "execution_count": 20,
     "metadata": {},
     "output_type": "execute_result"
    }
   ],
   "source": [
    "model = LogisticRegression(random_state=123, solver='liblinear', C=0.1)\n",
    "params = {'class_weight': [None,'balanced']}\n",
    "alb.sklearn_gridCV(model, X_train_ohe, y_train, 'f1', params, cv=10, plot=False)"
   ]
  },
  {
   "cell_type": "markdown",
   "id": "great-gates",
   "metadata": {},
   "source": [
    "Результат с балансировкой хуже, чем без нее. Думаю, это говорит о том, что балансировка в данной задаче действительно не нужна, а разница скорее всего обусловлена распределением данных по фолдам."
   ]
  },
  {
   "cell_type": "markdown",
   "id": "threatened-thermal",
   "metadata": {},
   "source": [
    "#### SVC"
   ]
  },
  {
   "cell_type": "code",
   "execution_count": 21,
   "id": "returning-cincinnati",
   "metadata": {},
   "outputs": [
    {
     "name": "stdout",
     "output_type": "stream",
     "text": [
      "Fitting 10 folds for each of 5 candidates, totalling 50 fits\n"
     ]
    },
    {
     "data": {
      "image/png": "[encoded data removed]",
      "text/plain": [
       "<Figure size 720x288 with 1 Axes>"
      ]
     },
     "metadata": {
      "needs_background": "light"
     },
     "output_type": "display_data"
    },
    {
     "name": "stdout",
     "output_type": "stream",
     "text": [
      "Best valid score: 0.887 (0.049)\n",
      "Best params: {'C': 0.01}\n"
     ]
    },
    {
     "data": {
      "text/html": [
       "<div>\n",
       "<style scoped>\n",
       "    .dataframe tbody tr th:only-of-type {\n",
       "        vertical-align: middle;\n",
       "    }\n",
       "\n",
       "    .dataframe tbody tr th {\n",
       "        vertical-align: top;\n",
       "    }\n",
       "\n",
       "    .dataframe thead th {\n",
       "        text-align: right;\n",
       "    }\n",
       "</style>\n",
       "<table border=\"1\" class=\"dataframe\">\n",
       "  <thead>\n",
       "    <tr style=\"text-align: right;\">\n",
       "      <th></th>\n",
       "      <th>cv score</th>\n",
       "      <th>cv std</th>\n",
       "      <th>time</th>\n",
       "    </tr>\n",
       "  </thead>\n",
       "  <tbody>\n",
       "    <tr>\n",
       "      <th>{'C': 0.001}</th>\n",
       "      <td>0.840</td>\n",
       "      <td>0.071</td>\n",
       "      <td>0.006</td>\n",
       "    </tr>\n",
       "    <tr>\n",
       "      <th>{'C': 0.01}</th>\n",
       "      <td>0.887</td>\n",
       "      <td>0.049</td>\n",
       "      <td>0.004</td>\n",
       "    </tr>\n",
       "    <tr>\n",
       "      <th>{'C': 0.1}</th>\n",
       "      <td>0.857</td>\n",
       "      <td>0.042</td>\n",
       "      <td>0.005</td>\n",
       "    </tr>\n",
       "    <tr>\n",
       "      <th>{'C': 1}</th>\n",
       "      <td>0.850</td>\n",
       "      <td>0.043</td>\n",
       "      <td>0.010</td>\n",
       "    </tr>\n",
       "    <tr>\n",
       "      <th>{'C': 10}</th>\n",
       "      <td>0.854</td>\n",
       "      <td>0.048</td>\n",
       "      <td>0.013</td>\n",
       "    </tr>\n",
       "  </tbody>\n",
       "</table>\n",
       "</div>"
      ],
      "text/plain": [
       "              cv score  cv std   time\n",
       "{'C': 0.001}     0.840   0.071  0.006\n",
       "{'C': 0.01}      0.887   0.049  0.004\n",
       "{'C': 0.1}       0.857   0.042  0.005\n",
       "{'C': 1}         0.850   0.043  0.010\n",
       "{'C': 10}        0.854   0.048  0.013"
      ]
     },
     "execution_count": 21,
     "metadata": {},
     "output_type": "execute_result"
    }
   ],
   "source": [
    "model = LinearSVC(random_state=123)\n",
    "params = {'C': [0.001,0.01,0.1,1,10]}\n",
    "alb.sklearn_gridCV(model, X_train_ohe, y_train, 'f1', params, cv=10)"
   ]
  },
  {
   "cell_type": "code",
   "execution_count": 22,
   "id": "variable-avatar",
   "metadata": {},
   "outputs": [
    {
     "name": "stdout",
     "output_type": "stream",
     "text": [
      "Fitting 10 folds for each of 10 candidates, totalling 100 fits\n"
     ]
    },
    {
     "data": {
      "image/png": "[encoded data removed]",
      "text/plain": [
       "<Figure size 360x144 with 2 Axes>"
      ]
     },
     "metadata": {
      "needs_background": "light"
     },
     "output_type": "display_data"
    },
    {
     "name": "stdout",
     "output_type": "stream",
     "text": [
      "Best valid score: 0.887 (0.049)\n",
      "Best params: {'C': 0.01, 'loss': 'squared_hinge'}\n"
     ]
    },
    {
     "data": {
      "text/html": [
       "<div>\n",
       "<style scoped>\n",
       "    .dataframe tbody tr th:only-of-type {\n",
       "        vertical-align: middle;\n",
       "    }\n",
       "\n",
       "    .dataframe tbody tr th {\n",
       "        vertical-align: top;\n",
       "    }\n",
       "\n",
       "    .dataframe thead th {\n",
       "        text-align: right;\n",
       "    }\n",
       "</style>\n",
       "<table border=\"1\" class=\"dataframe\">\n",
       "  <thead>\n",
       "    <tr style=\"text-align: right;\">\n",
       "      <th></th>\n",
       "      <th>cv score</th>\n",
       "      <th>cv std</th>\n",
       "      <th>time</th>\n",
       "    </tr>\n",
       "  </thead>\n",
       "  <tbody>\n",
       "    <tr>\n",
       "      <th>{'C': 0.001, 'loss': 'hinge'}</th>\n",
       "      <td>0.830</td>\n",
       "      <td>0.079</td>\n",
       "      <td>0.007</td>\n",
       "    </tr>\n",
       "    <tr>\n",
       "      <th>{'C': 0.001, 'loss': 'squared_hinge'}</th>\n",
       "      <td>0.840</td>\n",
       "      <td>0.071</td>\n",
       "      <td>0.004</td>\n",
       "    </tr>\n",
       "    <tr>\n",
       "      <th>{'C': 0.01, 'loss': 'hinge'}</th>\n",
       "      <td>0.855</td>\n",
       "      <td>0.059</td>\n",
       "      <td>0.004</td>\n",
       "    </tr>\n",
       "    <tr>\n",
       "      <th>{'C': 0.01, 'loss': 'squared_hinge'}</th>\n",
       "      <td>0.887</td>\n",
       "      <td>0.049</td>\n",
       "      <td>0.004</td>\n",
       "    </tr>\n",
       "    <tr>\n",
       "      <th>{'C': 0.1, 'loss': 'hinge'}</th>\n",
       "      <td>0.882</td>\n",
       "      <td>0.040</td>\n",
       "      <td>0.004</td>\n",
       "    </tr>\n",
       "    <tr>\n",
       "      <th>{'C': 0.1, 'loss': 'squared_hinge'}</th>\n",
       "      <td>0.857</td>\n",
       "      <td>0.042</td>\n",
       "      <td>0.004</td>\n",
       "    </tr>\n",
       "    <tr>\n",
       "      <th>{'C': 1, 'loss': 'hinge'}</th>\n",
       "      <td>0.874</td>\n",
       "      <td>0.045</td>\n",
       "      <td>0.005</td>\n",
       "    </tr>\n",
       "    <tr>\n",
       "      <th>{'C': 1, 'loss': 'squared_hinge'}</th>\n",
       "      <td>0.850</td>\n",
       "      <td>0.043</td>\n",
       "      <td>0.009</td>\n",
       "    </tr>\n",
       "    <tr>\n",
       "      <th>{'C': 10, 'loss': 'hinge'}</th>\n",
       "      <td>0.878</td>\n",
       "      <td>0.040</td>\n",
       "      <td>0.006</td>\n",
       "    </tr>\n",
       "    <tr>\n",
       "      <th>{'C': 10, 'loss': 'squared_hinge'}</th>\n",
       "      <td>0.854</td>\n",
       "      <td>0.048</td>\n",
       "      <td>0.011</td>\n",
       "    </tr>\n",
       "  </tbody>\n",
       "</table>\n",
       "</div>"
      ],
      "text/plain": [
       "                                       cv score  cv std   time\n",
       "{'C': 0.001, 'loss': 'hinge'}             0.830   0.079  0.007\n",
       "{'C': 0.001, 'loss': 'squared_hinge'}     0.840   0.071  0.004\n",
       "{'C': 0.01, 'loss': 'hinge'}              0.855   0.059  0.004\n",
       "{'C': 0.01, 'loss': 'squared_hinge'}      0.887   0.049  0.004\n",
       "{'C': 0.1, 'loss': 'hinge'}               0.882   0.040  0.004\n",
       "{'C': 0.1, 'loss': 'squared_hinge'}       0.857   0.042  0.004\n",
       "{'C': 1, 'loss': 'hinge'}                 0.874   0.045  0.005\n",
       "{'C': 1, 'loss': 'squared_hinge'}         0.850   0.043  0.009\n",
       "{'C': 10, 'loss': 'hinge'}                0.878   0.040  0.006\n",
       "{'C': 10, 'loss': 'squared_hinge'}        0.854   0.048  0.011"
      ]
     },
     "execution_count": 22,
     "metadata": {},
     "output_type": "execute_result"
    }
   ],
   "source": [
    "model = LinearSVC(random_state=123)\n",
    "params = {'C': [0.001,0.01,0.1,1,10], 'loss': ['hinge', 'squared_hinge']}\n",
    "alb.sklearn_gridCV(model, X_train_ohe, y_train, 'f1', params, cv=10)"
   ]
  },
  {
   "cell_type": "markdown",
   "id": "final-incident",
   "metadata": {},
   "source": [
    "#### kNN"
   ]
  },
  {
   "cell_type": "code",
   "execution_count": 23,
   "id": "upper-treasure",
   "metadata": {},
   "outputs": [
    {
     "name": "stdout",
     "output_type": "stream",
     "text": [
      "Fitting 10 folds for each of 8 candidates, totalling 80 fits\n"
     ]
    },
    {
     "data": {
      "image/png": "[encoded data removed]",
      "text/plain": [
       "<Figure size 720x288 with 1 Axes>"
      ]
     },
     "metadata": {
      "needs_background": "light"
     },
     "output_type": "display_data"
    },
    {
     "name": "stdout",
     "output_type": "stream",
     "text": [
      "Best valid score: 0.844 (0.062)\n",
      "Best params: {'n_neighbors': 7}\n"
     ]
    },
    {
     "data": {
      "text/html": [
       "<div>\n",
       "<style scoped>\n",
       "    .dataframe tbody tr th:only-of-type {\n",
       "        vertical-align: middle;\n",
       "    }\n",
       "\n",
       "    .dataframe tbody tr th {\n",
       "        vertical-align: top;\n",
       "    }\n",
       "\n",
       "    .dataframe thead th {\n",
       "        text-align: right;\n",
       "    }\n",
       "</style>\n",
       "<table border=\"1\" class=\"dataframe\">\n",
       "  <thead>\n",
       "    <tr style=\"text-align: right;\">\n",
       "      <th></th>\n",
       "      <th>cv score</th>\n",
       "      <th>cv std</th>\n",
       "      <th>time</th>\n",
       "    </tr>\n",
       "  </thead>\n",
       "  <tbody>\n",
       "    <tr>\n",
       "      <th>{'n_neighbors': 2}</th>\n",
       "      <td>0.677</td>\n",
       "      <td>0.147</td>\n",
       "      <td>0.004</td>\n",
       "    </tr>\n",
       "    <tr>\n",
       "      <th>{'n_neighbors': 3}</th>\n",
       "      <td>0.802</td>\n",
       "      <td>0.063</td>\n",
       "      <td>0.004</td>\n",
       "    </tr>\n",
       "    <tr>\n",
       "      <th>{'n_neighbors': 4}</th>\n",
       "      <td>0.767</td>\n",
       "      <td>0.108</td>\n",
       "      <td>0.004</td>\n",
       "    </tr>\n",
       "    <tr>\n",
       "      <th>{'n_neighbors': 5}</th>\n",
       "      <td>0.823</td>\n",
       "      <td>0.064</td>\n",
       "      <td>0.003</td>\n",
       "    </tr>\n",
       "    <tr>\n",
       "      <th>{'n_neighbors': 6}</th>\n",
       "      <td>0.805</td>\n",
       "      <td>0.074</td>\n",
       "      <td>0.003</td>\n",
       "    </tr>\n",
       "    <tr>\n",
       "      <th>{'n_neighbors': 7}</th>\n",
       "      <td>0.844</td>\n",
       "      <td>0.062</td>\n",
       "      <td>0.004</td>\n",
       "    </tr>\n",
       "    <tr>\n",
       "      <th>{'n_neighbors': 8}</th>\n",
       "      <td>0.824</td>\n",
       "      <td>0.081</td>\n",
       "      <td>0.004</td>\n",
       "    </tr>\n",
       "    <tr>\n",
       "      <th>{'n_neighbors': 9}</th>\n",
       "      <td>0.836</td>\n",
       "      <td>0.060</td>\n",
       "      <td>0.004</td>\n",
       "    </tr>\n",
       "  </tbody>\n",
       "</table>\n",
       "</div>"
      ],
      "text/plain": [
       "                    cv score  cv std   time\n",
       "{'n_neighbors': 2}     0.677   0.147  0.004\n",
       "{'n_neighbors': 3}     0.802   0.063  0.004\n",
       "{'n_neighbors': 4}     0.767   0.108  0.004\n",
       "{'n_neighbors': 5}     0.823   0.064  0.003\n",
       "{'n_neighbors': 6}     0.805   0.074  0.003\n",
       "{'n_neighbors': 7}     0.844   0.062  0.004\n",
       "{'n_neighbors': 8}     0.824   0.081  0.004\n",
       "{'n_neighbors': 9}     0.836   0.060  0.004"
      ]
     },
     "execution_count": 23,
     "metadata": {},
     "output_type": "execute_result"
    }
   ],
   "source": [
    "model = KNeighborsClassifier()\n",
    "params = {'n_neighbors': range(2,10)}\n",
    "alb.sklearn_gridCV(model, X_train_ohe, y_train, 'f1', params, cv=10)"
   ]
  },
  {
   "cell_type": "markdown",
   "id": "lined-startup",
   "metadata": {},
   "source": [
    "#### Случайный лес"
   ]
  },
  {
   "cell_type": "markdown",
   "id": "bottom-constitutional",
   "metadata": {},
   "source": [
    "Результат с гиперпараметрами по умолчанию с балансировкой и без"
   ]
  },
  {
   "cell_type": "code",
   "execution_count": 34,
   "id": "illegal-allen",
   "metadata": {},
   "outputs": [
    {
     "name": "stdout",
     "output_type": "stream",
     "text": [
      "Fitting 5 folds for each of 2 candidates, totalling 10 fits\n",
      "Best valid score: 0.787 (0.071)\n",
      "Best params: {'class_weight': 'balanced'}\n",
      "Wall time: 96.4 ms\n"
     ]
    },
    {
     "data": {
      "text/html": [
       "<div>\n",
       "<style scoped>\n",
       "    .dataframe tbody tr th:only-of-type {\n",
       "        vertical-align: middle;\n",
       "    }\n",
       "\n",
       "    .dataframe tbody tr th {\n",
       "        vertical-align: top;\n",
       "    }\n",
       "\n",
       "    .dataframe thead th {\n",
       "        text-align: right;\n",
       "    }\n",
       "</style>\n",
       "<table border=\"1\" class=\"dataframe\">\n",
       "  <thead>\n",
       "    <tr style=\"text-align: right;\">\n",
       "      <th></th>\n",
       "      <th>cv score</th>\n",
       "      <th>cv std</th>\n",
       "      <th>time</th>\n",
       "    </tr>\n",
       "  </thead>\n",
       "  <tbody>\n",
       "    <tr>\n",
       "      <th>{'class_weight': None}</th>\n",
       "      <td>0.785</td>\n",
       "      <td>0.075</td>\n",
       "      <td>0.004</td>\n",
       "    </tr>\n",
       "    <tr>\n",
       "      <th>{'class_weight': 'balanced'}</th>\n",
       "      <td>0.787</td>\n",
       "      <td>0.071</td>\n",
       "      <td>0.005</td>\n",
       "    </tr>\n",
       "  </tbody>\n",
       "</table>\n",
       "</div>"
      ],
      "text/plain": [
       "                              cv score  cv std   time\n",
       "{'class_weight': None}           0.785   0.075  0.004\n",
       "{'class_weight': 'balanced'}     0.787   0.071  0.005"
      ]
     },
     "execution_count": 34,
     "metadata": {},
     "output_type": "execute_result"
    }
   ],
   "source": [
    "%%time\n",
    "model = DecisionTreeClassifier(random_state=123)\n",
    "params = {'class_weight': [None, 'balanced']}\n",
    "alb.sklearn_gridCV(model, X_train, y_train, 'f1', params, plot=False)"
   ]
  },
  {
   "cell_type": "markdown",
   "id": "mobile-referral",
   "metadata": {},
   "source": [
    "Подберём гиперпарамеры с помощью RandomizedSearchCV"
   ]
  },
  {
   "cell_type": "code",
   "execution_count": 25,
   "id": "bound-prescription",
   "metadata": {},
   "outputs": [
    {
     "name": "stdout",
     "output_type": "stream",
     "text": [
      "Fitting 10 folds for each of 50 candidates, totalling 500 fits\n",
      "{'class_weight': None, 'max_depth': 7, 'max_features': 2, 'n_estimators': 497}\n",
      "0.8575095645095645\n",
      "Wall time: 2min 12s\n"
     ]
    }
   ],
   "source": [
    "%%time\n",
    "model = RandomForestClassifier(random_state=123, n_jobs=-1)\n",
    "distributions = dict(max_depth=randint(2,10), \n",
    "                     max_features=randint(2,X_train.shape[1]), \n",
    "                     class_weight=[None,'balanced'],\n",
    "                     n_estimators=randint(10, 500))\n",
    "\n",
    "rndsearch = RandomizedSearchCV(model, distributions, random_state=0, n_iter=50, scoring='f1', cv=10, verbose=1)\n",
    "res = rndsearch.fit(X_train, y_train)\n",
    "print(res.best_params_)\n",
    "print(res.best_score_)"
   ]
  },
  {
   "cell_type": "markdown",
   "id": "universal-fraction",
   "metadata": {},
   "source": [
    "#### Градиентный бустинг\n",
    "Выборка очень маленькая, но попробовать все же стоит.  \n",
    "Будем подбирать гиперпараметры последовательно, по два гиперпараметра за раз, начиная с наиболее значимых.\n",
    "learning_rate сразу определим 0.05, кол-во итераций оставим по умолчанию - 100. Оптимальная сложность модели будет задана количеством листьев."
   ]
  },
  {
   "cell_type": "code",
   "execution_count": 26,
   "id": "criminal-barcelona",
   "metadata": {},
   "outputs": [
    {
     "data": {
      "text/plain": [
       "[10, 6]"
      ]
     },
     "execution_count": 26,
     "metadata": {},
     "output_type": "execute_result"
    }
   ],
   "source": [
    "cat_col_idx = [list(X_train.columns).index(col) for col in cat_cols]\n",
    "cat_col_idx"
   ]
  },
  {
   "cell_type": "code",
   "execution_count": 27,
   "id": "considered-denver",
   "metadata": {},
   "outputs": [
    {
     "name": "stdout",
     "output_type": "stream",
     "text": [
      "Fitting 10 folds for each of 25 candidates, totalling 250 fits\n"
     ]
    },
    {
     "name": "stderr",
     "output_type": "stream",
     "text": [
      "C:\\Users\\albri\\.conda\\envs\\python38\\lib\\site-packages\\lightgbm\\basic.py:1094: UserWarning: categorical_feature keyword has been found in `params` and will be ignored.\n",
      "Please use categorical_feature argument of the Dataset constructor to pass this parameter.\n",
      "  warnings.warn('{0} keyword has been found in `params` and will be ignored.\\n'\n"
     ]
    },
    {
     "data": {
      "image/png": "[encoded data removed]",
      "text/plain": [
       "<Figure size 360x360 with 2 Axes>"
      ]
     },
     "metadata": {
      "needs_background": "light"
     },
     "output_type": "display_data"
    },
    {
     "name": "stdout",
     "output_type": "stream",
     "text": [
      "Best valid score: 0.856 (0.036)\n",
      "Best params: {'max_depth': 2, 'num_leaves': 4}\n"
     ]
    }
   ],
   "source": [
    "model = lgb.LGBMClassifier(objective='binary', random_state=123, learning_rate=0.05, categorical_feature=cat_col_idx)\n",
    "params = {'num_leaves': range(2,12,2), 'max_depth': range(1,6)}\n",
    "res = alb.sklearn_gridCV(model, X_train, y_train, 'f1', params, cv=10)"
   ]
  },
  {
   "cell_type": "code",
   "execution_count": 28,
   "id": "raising-clothing",
   "metadata": {},
   "outputs": [
    {
     "name": "stdout",
     "output_type": "stream",
     "text": [
      "Fitting 10 folds for each of 25 candidates, totalling 250 fits\n"
     ]
    },
    {
     "name": "stderr",
     "output_type": "stream",
     "text": [
      "C:\\Users\\albri\\.conda\\envs\\python38\\lib\\site-packages\\lightgbm\\basic.py:1094: UserWarning: categorical_feature keyword has been found in `params` and will be ignored.\n",
      "Please use categorical_feature argument of the Dataset constructor to pass this parameter.\n",
      "  warnings.warn('{0} keyword has been found in `params` and will be ignored.\\n'\n"
     ]
    },
    {
     "data": {
      "image/png": "[encoded data removed]",
      "text/plain": [
       "<Figure size 360x360 with 2 Axes>"
      ]
     },
     "metadata": {
      "needs_background": "light"
     },
     "output_type": "display_data"
    },
    {
     "name": "stdout",
     "output_type": "stream",
     "text": [
      "Best valid score: 0.859 (0.033)\n",
      "Best params: {'lambda_l1': 0.1, 'lambda_l2': 1}\n"
     ]
    }
   ],
   "source": [
    "model = lgb.LGBMClassifier(objective='binary', \n",
    "                           random_state=123, \n",
    "                           learning_rate=0.05,\n",
    "                           categorical_feature=cat_col_idx,\n",
    "                           num_leaves=4,\n",
    "                           max_depth=2)\n",
    "params = {'lambda_l1': [0, 0.01, 0.1, 1, 10], 'lambda_l2': [0, 0.01, 0.1, 1, 10]}\n",
    "res = alb.sklearn_gridCV(model, X_train, y_train, 'f1', params, cv=10)"
   ]
  },
  {
   "cell_type": "code",
   "execution_count": 29,
   "id": "portuguese-ballet",
   "metadata": {},
   "outputs": [
    {
     "name": "stdout",
     "output_type": "stream",
     "text": [
      "Fitting 5 folds for each of 20 candidates, totalling 100 fits\n"
     ]
    },
    {
     "name": "stderr",
     "output_type": "stream",
     "text": [
      "C:\\Users\\albri\\.conda\\envs\\python38\\lib\\site-packages\\lightgbm\\basic.py:1094: UserWarning: categorical_feature keyword has been found in `params` and will be ignored.\n",
      "Please use categorical_feature argument of the Dataset constructor to pass this parameter.\n",
      "  warnings.warn('{0} keyword has been found in `params` and will be ignored.\\n'\n"
     ]
    },
    {
     "data": {
      "image/png": "[encoded data removed]",
      "text/plain": [
       "<Figure size 144x720 with 2 Axes>"
      ]
     },
     "metadata": {
      "needs_background": "light"
     },
     "output_type": "display_data"
    },
    {
     "name": "stdout",
     "output_type": "stream",
     "text": [
      "Best valid score: 0.870 (0.026)\n",
      "Best params: {'class_weight': None, 'feature_fraction': 0.8}\n"
     ]
    }
   ],
   "source": [
    "model = lgb.LGBMClassifier(objective='binary', \n",
    "                           random_state=123, \n",
    "                           learning_rate=0.05,\n",
    "                           categorical_feature=cat_col_idx,\n",
    "                           num_leaves=4,\n",
    "                           max_depth=2,\n",
    "                           lambda_l1=0.1)\n",
    "params = {'feature_fraction': np.arange(0.1, 1.01, 0.1).round(2), 'class_weight': [None, 'balanced']}\n",
    "res = alb.sklearn_gridCV(model, X_train, y_train, 'f1', params)"
   ]
  },
  {
   "cell_type": "markdown",
   "id": "metropolitan-sitting",
   "metadata": {},
   "source": [
    "До результата логистической регрессии так и не дотянули."
   ]
  },
  {
   "cell_type": "markdown",
   "id": "complimentary-international",
   "metadata": {},
   "source": [
    "### Тестирование модели"
   ]
  },
  {
   "cell_type": "markdown",
   "id": "accepted-salmon",
   "metadata": {},
   "source": [
    "Логистическая регрессия и SVC показали лучший результат на кросс-валидации, SVC чуть-чуть получше. Обучим SVC на всей обучающей выборке, проверим результат на тестовой."
   ]
  },
  {
   "cell_type": "code",
   "execution_count": 30,
   "id": "sharp-timeline",
   "metadata": {},
   "outputs": [
    {
     "data": {
      "text/plain": [
       "0.89231"
      ]
     },
     "execution_count": 30,
     "metadata": {},
     "output_type": "execute_result"
    }
   ],
   "source": [
    "model = LinearSVC(random_state=123, loss='squared_hinge', C=0.01)\n",
    "model.fit(X_train_ohe, y_train)\n",
    "pred = model.predict(X_test_ohe)\n",
    "np.round(f1_score(y_test, pred),5)"
   ]
  },
  {
   "cell_type": "markdown",
   "id": "biblical-craft",
   "metadata": {},
   "source": [
    "Матрица ошибок"
   ]
  },
  {
   "cell_type": "code",
   "execution_count": 31,
   "id": "south-genesis",
   "metadata": {},
   "outputs": [
    {
     "data": {
      "text/plain": [
       "array([[25,  4],\n",
       "       [ 3, 29]], dtype=int64)"
      ]
     },
     "execution_count": 31,
     "metadata": {},
     "output_type": "execute_result"
    }
   ],
   "source": [
    "confusion_matrix(y_test, pred)"
   ]
  },
  {
   "cell_type": "markdown",
   "id": "north-journalism",
   "metadata": {},
   "source": [
    "Коэффициенты признаков"
   ]
  },
  {
   "cell_type": "code",
   "execution_count": 32,
   "id": "assumed-adobe",
   "metadata": {},
   "outputs": [
    {
     "data": {
      "text/html": [
       "<div>\n",
       "<style scoped>\n",
       "    .dataframe tbody tr th:only-of-type {\n",
       "        vertical-align: middle;\n",
       "    }\n",
       "\n",
       "    .dataframe tbody tr th {\n",
       "        vertical-align: top;\n",
       "    }\n",
       "\n",
       "    .dataframe thead th {\n",
       "        text-align: right;\n",
       "    }\n",
       "</style>\n",
       "<table border=\"1\" class=\"dataframe\">\n",
       "  <thead>\n",
       "    <tr style=\"text-align: right;\">\n",
       "      <th></th>\n",
       "      <th>coef</th>\n",
       "      <th>abs_coef</th>\n",
       "    </tr>\n",
       "  </thead>\n",
       "  <tbody>\n",
       "    <tr>\n",
       "      <th>FEATURE_10</th>\n",
       "      <td>-0.211455</td>\n",
       "      <td>0.211455</td>\n",
       "    </tr>\n",
       "    <tr>\n",
       "      <th>FEATURE_11</th>\n",
       "      <td>-0.193211</td>\n",
       "      <td>0.193211</td>\n",
       "    </tr>\n",
       "    <tr>\n",
       "      <th>FEATURE_1</th>\n",
       "      <td>0.191652</td>\n",
       "      <td>0.191652</td>\n",
       "    </tr>\n",
       "    <tr>\n",
       "      <th>GENDER</th>\n",
       "      <td>-0.190632</td>\n",
       "      <td>0.190632</td>\n",
       "    </tr>\n",
       "    <tr>\n",
       "      <th>FEATURE_8</th>\n",
       "      <td>-0.170494</td>\n",
       "      <td>0.170494</td>\n",
       "    </tr>\n",
       "    <tr>\n",
       "      <th>FEATURE_9_2</th>\n",
       "      <td>0.169630</td>\n",
       "      <td>0.169630</td>\n",
       "    </tr>\n",
       "    <tr>\n",
       "      <th>FEATURE_7</th>\n",
       "      <td>-0.162505</td>\n",
       "      <td>0.162505</td>\n",
       "    </tr>\n",
       "    <tr>\n",
       "      <th>FEATURE_6</th>\n",
       "      <td>0.136547</td>\n",
       "      <td>0.136547</td>\n",
       "    </tr>\n",
       "    <tr>\n",
       "      <th>FEATURE_5_1</th>\n",
       "      <td>0.123962</td>\n",
       "      <td>0.123962</td>\n",
       "    </tr>\n",
       "    <tr>\n",
       "      <th>FEATURE_2</th>\n",
       "      <td>-0.097876</td>\n",
       "      <td>0.097876</td>\n",
       "    </tr>\n",
       "    <tr>\n",
       "      <th>FEATURE_9_1</th>\n",
       "      <td>-0.063263</td>\n",
       "      <td>0.063263</td>\n",
       "    </tr>\n",
       "    <tr>\n",
       "      <th>FEATURE_4</th>\n",
       "      <td>0.028299</td>\n",
       "      <td>0.028299</td>\n",
       "    </tr>\n",
       "    <tr>\n",
       "      <th>AGE</th>\n",
       "      <td>0.009022</td>\n",
       "      <td>0.009022</td>\n",
       "    </tr>\n",
       "    <tr>\n",
       "      <th>FEATURE_3</th>\n",
       "      <td>-0.008542</td>\n",
       "      <td>0.008542</td>\n",
       "    </tr>\n",
       "    <tr>\n",
       "      <th>FEATURE_5_2</th>\n",
       "      <td>0.006060</td>\n",
       "      <td>0.006060</td>\n",
       "    </tr>\n",
       "  </tbody>\n",
       "</table>\n",
       "</div>"
      ],
      "text/plain": [
       "                 coef  abs_coef\n",
       "FEATURE_10  -0.211455  0.211455\n",
       "FEATURE_11  -0.193211  0.193211\n",
       "FEATURE_1    0.191652  0.191652\n",
       "GENDER      -0.190632  0.190632\n",
       "FEATURE_8   -0.170494  0.170494\n",
       "FEATURE_9_2  0.169630  0.169630\n",
       "FEATURE_7   -0.162505  0.162505\n",
       "FEATURE_6    0.136547  0.136547\n",
       "FEATURE_5_1  0.123962  0.123962\n",
       "FEATURE_2   -0.097876  0.097876\n",
       "FEATURE_9_1 -0.063263  0.063263\n",
       "FEATURE_4    0.028299  0.028299\n",
       "AGE          0.009022  0.009022\n",
       "FEATURE_3   -0.008542  0.008542\n",
       "FEATURE_5_2  0.006060  0.006060"
      ]
     },
     "execution_count": 32,
     "metadata": {},
     "output_type": "execute_result"
    }
   ],
   "source": [
    "fi = pd.DataFrame(index=X_train_ohe.columns, data={'coef': model.coef_[0], 'abs_coef': abs(model.coef_[0])})\n",
    "fi.sort_values('abs_coef', ascending=False)"
   ]
  },
  {
   "cell_type": "markdown",
   "id": "specialized-aging",
   "metadata": {},
   "source": [
    "Сравним с результатом фиктивного классификатора"
   ]
  },
  {
   "cell_type": "code",
   "execution_count": 33,
   "id": "adolescent-contents",
   "metadata": {},
   "outputs": [
    {
     "data": {
      "text/plain": [
       "0.68817"
      ]
     },
     "execution_count": 33,
     "metadata": {},
     "output_type": "execute_result"
    }
   ],
   "source": [
    "dummy_clf = DummyClassifier(strategy=\"most_frequent\")\n",
    "dummy_clf.fit(X_train, y_train)\n",
    "pred = dummy_clf.predict(X_test)\n",
    "np.round(f1_score(y_test, pred),5)"
   ]
  },
  {
   "cell_type": "markdown",
   "id": "novel-poetry",
   "metadata": {},
   "source": [
    "Результат модели на тестовой выборке лучше, чем у фиктивного классификатора, что подтверждает ее адекватность.  \n",
    "\n",
    "Возможные направления для дальнейшего исседования: \n",
    "- попробовать другое разделение признаков между категориальными и количествеными \n",
    "- убрать смещение в распределении количественых признаков"
   ]
  },
  {
   "cell_type": "code",
   "execution_count": null,
   "id": "miniature-console",
   "metadata": {},
   "outputs": [],
   "source": []
  }
 ],
 "metadata": {
  "kernelspec": {
   "display_name": "Python 3",
   "language": "python",
   "name": "python3"
  },
  "language_info": {
   "codemirror_mode": {
    "name": "ipython",
    "version": 3
   },
   "file_extension": ".py",
   "mimetype": "text/x-python",
   "name": "python",
   "nbconvert_exporter": "python",
   "pygments_lexer": "ipython3",
   "version": "3.8.5"
  }
 },
 "nbformat": 4,
 "nbformat_minor": 5
}
